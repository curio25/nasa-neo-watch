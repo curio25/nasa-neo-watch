{
 "cells": [
  {
   "cell_type": "markdown",
   "metadata": {},
   "source": [
    "# NASA Asteroid Hazard Classification with SageMaker and XGBoost"
   ]
  },
  {
   "cell_type": "markdown",
   "metadata": {},
   "source": [
    "### Imports"
   ]
  },
  {
   "cell_type": "code",
   "execution_count": 1,
   "metadata": {},
   "outputs": [
    {
     "name": "stdout",
     "output_type": "stream",
     "text": [
      "sagemaker.config INFO - Not applying SDK defaults from location: /Library/Application Support/sagemaker/config.yaml\n",
      "sagemaker.config INFO - Not applying SDK defaults from location: /Users/shubhigupta/Library/Application Support/sagemaker/config.yaml\n"
     ]
    }
   ],
   "source": [
    "import setuptools\n",
    "import sagemaker\n",
    "from sklearn.model_selection import train_test_split \n",
    "import boto3\n",
    "import pandas as pd"
   ]
  },
  {
   "cell_type": "markdown",
   "metadata": {},
   "source": [
    "### Data Processing"
   ]
  },
  {
   "cell_type": "code",
   "execution_count": 17,
   "metadata": {},
   "outputs": [],
   "source": [
    "data = pd.read_csv('./data/raw/neo_clean.csv')"
   ]
  },
  {
   "cell_type": "code",
   "execution_count": 18,
   "metadata": {},
   "outputs": [
    {
     "name": "stdout",
     "output_type": "stream",
     "text": [
      "<class 'pandas.core.frame.DataFrame'>\n",
      "RangeIndex: 90000 entries, 0 to 89999\n",
      "Data columns (total 18 columns):\n",
      " #   Column                         Non-Null Count  Dtype  \n",
      "---  ------                         --------------  -----  \n",
      " 0   absolute_magnitude             90000 non-null  float64\n",
      " 1   est_diameter_min               90000 non-null  float64\n",
      " 2   est_diameter_max               90000 non-null  float64\n",
      " 3   close_approach_date            90000 non-null  object \n",
      " 4   relative_velocity              90000 non-null  float64\n",
      " 5   miss_distance                  90000 non-null  float64\n",
      " 6   orbit_uncertainty              89967 non-null  float64\n",
      " 7   minimum_orbit_intersection     89967 non-null  float64\n",
      " 8   orbital_period                 89967 non-null  float64\n",
      " 9   mean_motion                    89967 non-null  float64\n",
      " 10  eccentricity                   89967 non-null  float64\n",
      " 11  perihelion_distance            89967 non-null  float64\n",
      " 12  aphelion_distance              89967 non-null  float64\n",
      " 13  hazardous                      90000 non-null  bool   \n",
      " 14  velocity_rate_regression       83349 non-null  float64\n",
      " 15  velocity_rate_avg              83349 non-null  float64\n",
      " 16  miss_distance_rate_regression  83349 non-null  float64\n",
      " 17  miss_distance_rate_avg         83349 non-null  float64\n",
      "dtypes: bool(1), float64(16), object(1)\n",
      "memory usage: 11.8+ MB\n"
     ]
    },
    {
     "data": {
      "text/html": [
       "<div>\n",
       "<style scoped>\n",
       "    .dataframe tbody tr th:only-of-type {\n",
       "        vertical-align: middle;\n",
       "    }\n",
       "\n",
       "    .dataframe tbody tr th {\n",
       "        vertical-align: top;\n",
       "    }\n",
       "\n",
       "    .dataframe thead th {\n",
       "        text-align: right;\n",
       "    }\n",
       "</style>\n",
       "<table border=\"1\" class=\"dataframe\">\n",
       "  <thead>\n",
       "    <tr style=\"text-align: right;\">\n",
       "      <th></th>\n",
       "      <th>absolute_magnitude</th>\n",
       "      <th>est_diameter_min</th>\n",
       "      <th>est_diameter_max</th>\n",
       "      <th>close_approach_date</th>\n",
       "      <th>relative_velocity</th>\n",
       "      <th>miss_distance</th>\n",
       "      <th>orbit_uncertainty</th>\n",
       "      <th>minimum_orbit_intersection</th>\n",
       "      <th>orbital_period</th>\n",
       "      <th>mean_motion</th>\n",
       "      <th>eccentricity</th>\n",
       "      <th>perihelion_distance</th>\n",
       "      <th>aphelion_distance</th>\n",
       "      <th>hazardous</th>\n",
       "      <th>velocity_rate_regression</th>\n",
       "      <th>velocity_rate_avg</th>\n",
       "      <th>miss_distance_rate_regression</th>\n",
       "      <th>miss_distance_rate_avg</th>\n",
       "    </tr>\n",
       "  </thead>\n",
       "  <tbody>\n",
       "    <tr>\n",
       "      <th>0</th>\n",
       "      <td>16.70</td>\n",
       "      <td>1.214940</td>\n",
       "      <td>2.716689</td>\n",
       "      <td>31/05/2003</td>\n",
       "      <td>84574.50244</td>\n",
       "      <td>48800509.14</td>\n",
       "      <td>0.0</td>\n",
       "      <td>0.304744</td>\n",
       "      <td>1353.300542</td>\n",
       "      <td>0.266016</td>\n",
       "      <td>0.741697</td>\n",
       "      <td>0.618482</td>\n",
       "      <td>4.170324</td>\n",
       "      <td>False</td>\n",
       "      <td>-4.375740e-07</td>\n",
       "      <td>-0.000005</td>\n",
       "      <td>0.000452</td>\n",
       "      <td>0.004685</td>\n",
       "    </tr>\n",
       "    <tr>\n",
       "      <th>1</th>\n",
       "      <td>22.30</td>\n",
       "      <td>0.092163</td>\n",
       "      <td>0.206082</td>\n",
       "      <td>31/05/2003</td>\n",
       "      <td>76177.35114</td>\n",
       "      <td>48676618.10</td>\n",
       "      <td>0.0</td>\n",
       "      <td>0.011805</td>\n",
       "      <td>341.180111</td>\n",
       "      <td>1.055161</td>\n",
       "      <td>0.378715</td>\n",
       "      <td>0.593673</td>\n",
       "      <td>1.317442</td>\n",
       "      <td>False</td>\n",
       "      <td>9.683358e-07</td>\n",
       "      <td>0.000030</td>\n",
       "      <td>0.000518</td>\n",
       "      <td>0.064797</td>\n",
       "    </tr>\n",
       "    <tr>\n",
       "      <th>2</th>\n",
       "      <td>20.90</td>\n",
       "      <td>0.175612</td>\n",
       "      <td>0.392681</td>\n",
       "      <td>31/05/2003</td>\n",
       "      <td>40675.45864</td>\n",
       "      <td>20058862.17</td>\n",
       "      <td>1.0</td>\n",
       "      <td>0.130954</td>\n",
       "      <td>636.586551</td>\n",
       "      <td>0.565516</td>\n",
       "      <td>0.223179</td>\n",
       "      <td>1.125020</td>\n",
       "      <td>1.771452</td>\n",
       "      <td>False</td>\n",
       "      <td>-1.395668e-06</td>\n",
       "      <td>-0.000012</td>\n",
       "      <td>-0.000869</td>\n",
       "      <td>-0.006343</td>\n",
       "    </tr>\n",
       "    <tr>\n",
       "      <th>3</th>\n",
       "      <td>20.15</td>\n",
       "      <td>0.248059</td>\n",
       "      <td>0.554677</td>\n",
       "      <td>31/05/2003</td>\n",
       "      <td>55504.52545</td>\n",
       "      <td>41444758.85</td>\n",
       "      <td>1.0</td>\n",
       "      <td>0.253456</td>\n",
       "      <td>541.981518</td>\n",
       "      <td>0.664229</td>\n",
       "      <td>0.433385</td>\n",
       "      <td>0.737132</td>\n",
       "      <td>1.864749</td>\n",
       "      <td>False</td>\n",
       "      <td>-2.684856e-07</td>\n",
       "      <td>-0.000007</td>\n",
       "      <td>-0.000430</td>\n",
       "      <td>-0.009523</td>\n",
       "    </tr>\n",
       "    <tr>\n",
       "      <th>4</th>\n",
       "      <td>21.00</td>\n",
       "      <td>0.167708</td>\n",
       "      <td>0.375008</td>\n",
       "      <td>31/05/2003</td>\n",
       "      <td>45584.89310</td>\n",
       "      <td>37554794.25</td>\n",
       "      <td>6.0</td>\n",
       "      <td>0.219619</td>\n",
       "      <td>1276.938741</td>\n",
       "      <td>0.281924</td>\n",
       "      <td>0.466313</td>\n",
       "      <td>1.229328</td>\n",
       "      <td>3.377597</td>\n",
       "      <td>False</td>\n",
       "      <td>-2.495001e-06</td>\n",
       "      <td>-0.000002</td>\n",
       "      <td>-0.015808</td>\n",
       "      <td>-0.013043</td>\n",
       "    </tr>\n",
       "  </tbody>\n",
       "</table>\n",
       "</div>"
      ],
      "text/plain": [
       "   absolute_magnitude  est_diameter_min  est_diameter_max close_approach_date  \\\n",
       "0               16.70          1.214940          2.716689          31/05/2003   \n",
       "1               22.30          0.092163          0.206082          31/05/2003   \n",
       "2               20.90          0.175612          0.392681          31/05/2003   \n",
       "3               20.15          0.248059          0.554677          31/05/2003   \n",
       "4               21.00          0.167708          0.375008          31/05/2003   \n",
       "\n",
       "   relative_velocity  miss_distance  orbit_uncertainty  \\\n",
       "0        84574.50244    48800509.14                0.0   \n",
       "1        76177.35114    48676618.10                0.0   \n",
       "2        40675.45864    20058862.17                1.0   \n",
       "3        55504.52545    41444758.85                1.0   \n",
       "4        45584.89310    37554794.25                6.0   \n",
       "\n",
       "   minimum_orbit_intersection  orbital_period  mean_motion  eccentricity  \\\n",
       "0                    0.304744     1353.300542     0.266016      0.741697   \n",
       "1                    0.011805      341.180111     1.055161      0.378715   \n",
       "2                    0.130954      636.586551     0.565516      0.223179   \n",
       "3                    0.253456      541.981518     0.664229      0.433385   \n",
       "4                    0.219619     1276.938741     0.281924      0.466313   \n",
       "\n",
       "   perihelion_distance  aphelion_distance  hazardous  \\\n",
       "0             0.618482           4.170324      False   \n",
       "1             0.593673           1.317442      False   \n",
       "2             1.125020           1.771452      False   \n",
       "3             0.737132           1.864749      False   \n",
       "4             1.229328           3.377597      False   \n",
       "\n",
       "   velocity_rate_regression  velocity_rate_avg  miss_distance_rate_regression  \\\n",
       "0             -4.375740e-07          -0.000005                       0.000452   \n",
       "1              9.683358e-07           0.000030                       0.000518   \n",
       "2             -1.395668e-06          -0.000012                      -0.000869   \n",
       "3             -2.684856e-07          -0.000007                      -0.000430   \n",
       "4             -2.495001e-06          -0.000002                      -0.015808   \n",
       "\n",
       "   miss_distance_rate_avg  \n",
       "0                0.004685  \n",
       "1                0.064797  \n",
       "2               -0.006343  \n",
       "3               -0.009523  \n",
       "4               -0.013043  "
      ]
     },
     "execution_count": 18,
     "metadata": {},
     "output_type": "execute_result"
    }
   ],
   "source": [
    "data.info()\n",
    "data.head()"
   ]
  },
  {
   "cell_type": "code",
   "execution_count": 19,
   "metadata": {},
   "outputs": [],
   "source": [
    "data['hazardous'] = data['hazardous'].apply(lambda x: 0 if x == False else 1)\n",
    "data.drop(columns = ['close_approach_date', 'absolute_magnitude', 'minimum_orbit_intersection'], inplace = True)\n",
    "#data.drop(columns = ['close_approach_date'], inplace = True)\n",
    "#data.dropna(inplace = True)"
   ]
  },
  {
   "cell_type": "code",
   "execution_count": 20,
   "metadata": {},
   "outputs": [
    {
     "name": "stdout",
     "output_type": "stream",
     "text": [
      "['est_diameter_min', 'est_diameter_max', 'relative_velocity', 'miss_distance', 'orbit_uncertainty', 'orbital_period', 'mean_motion', 'eccentricity', 'perihelion_distance', 'aphelion_distance', 'velocity_rate_regression', 'velocity_rate_avg', 'miss_distance_rate_regression', 'miss_distance_rate_avg']\n"
     ]
    }
   ],
   "source": [
    "features = list(data.columns)\n",
    "features.remove('hazardous')\n",
    "print(features)"
   ]
  },
  {
   "cell_type": "code",
   "execution_count": 23,
   "metadata": {},
   "outputs": [],
   "source": [
    "X, Y = data[features], data['hazardous']"
   ]
  },
  {
   "cell_type": "markdown",
   "metadata": {},
   "source": [
    "### Features and Labels"
   ]
  },
  {
   "cell_type": "code",
   "execution_count": 24,
   "metadata": {},
   "outputs": [
    {
     "name": "stdout",
     "output_type": "stream",
     "text": [
      "Features\n",
      "<class 'pandas.core.frame.DataFrame'>\n",
      "RangeIndex: 90000 entries, 0 to 89999\n",
      "Data columns (total 14 columns):\n",
      " #   Column                         Non-Null Count  Dtype  \n",
      "---  ------                         --------------  -----  \n",
      " 0   est_diameter_min               90000 non-null  float64\n",
      " 1   est_diameter_max               90000 non-null  float64\n",
      " 2   relative_velocity              90000 non-null  float64\n",
      " 3   miss_distance                  90000 non-null  float64\n",
      " 4   orbit_uncertainty              89967 non-null  float64\n",
      " 5   orbital_period                 89967 non-null  float64\n",
      " 6   mean_motion                    89967 non-null  float64\n",
      " 7   eccentricity                   89967 non-null  float64\n",
      " 8   perihelion_distance            89967 non-null  float64\n",
      " 9   aphelion_distance              89967 non-null  float64\n",
      " 10  velocity_rate_regression       83349 non-null  float64\n",
      " 11  velocity_rate_avg              83349 non-null  float64\n",
      " 12  miss_distance_rate_regression  83349 non-null  float64\n",
      " 13  miss_distance_rate_avg         83349 non-null  float64\n",
      "dtypes: float64(14)\n",
      "memory usage: 9.6 MB\n"
     ]
    }
   ],
   "source": [
    "print(\"Features\")\n",
    "X.info()"
   ]
  },
  {
   "cell_type": "code",
   "execution_count": 26,
   "metadata": {},
   "outputs": [
    {
     "data": {
      "text/html": [
       "<div>\n",
       "<style scoped>\n",
       "    .dataframe tbody tr th:only-of-type {\n",
       "        vertical-align: middle;\n",
       "    }\n",
       "\n",
       "    .dataframe tbody tr th {\n",
       "        vertical-align: top;\n",
       "    }\n",
       "\n",
       "    .dataframe thead th {\n",
       "        text-align: right;\n",
       "    }\n",
       "</style>\n",
       "<table border=\"1\" class=\"dataframe\">\n",
       "  <thead>\n",
       "    <tr style=\"text-align: right;\">\n",
       "      <th></th>\n",
       "      <th>est_diameter_min</th>\n",
       "      <th>est_diameter_max</th>\n",
       "      <th>relative_velocity</th>\n",
       "      <th>miss_distance</th>\n",
       "      <th>orbit_uncertainty</th>\n",
       "      <th>orbital_period</th>\n",
       "      <th>mean_motion</th>\n",
       "      <th>eccentricity</th>\n",
       "      <th>perihelion_distance</th>\n",
       "      <th>aphelion_distance</th>\n",
       "      <th>velocity_rate_regression</th>\n",
       "      <th>velocity_rate_avg</th>\n",
       "      <th>miss_distance_rate_regression</th>\n",
       "      <th>miss_distance_rate_avg</th>\n",
       "    </tr>\n",
       "  </thead>\n",
       "  <tbody>\n",
       "    <tr>\n",
       "      <th>0</th>\n",
       "      <td>1.214940</td>\n",
       "      <td>2.716689</td>\n",
       "      <td>84574.50244</td>\n",
       "      <td>48800509.14</td>\n",
       "      <td>0.0</td>\n",
       "      <td>1353.300542</td>\n",
       "      <td>0.266016</td>\n",
       "      <td>0.741697</td>\n",
       "      <td>0.618482</td>\n",
       "      <td>4.170324</td>\n",
       "      <td>-4.375740e-07</td>\n",
       "      <td>-0.000005</td>\n",
       "      <td>0.000452</td>\n",
       "      <td>0.004685</td>\n",
       "    </tr>\n",
       "    <tr>\n",
       "      <th>1</th>\n",
       "      <td>0.092163</td>\n",
       "      <td>0.206082</td>\n",
       "      <td>76177.35114</td>\n",
       "      <td>48676618.10</td>\n",
       "      <td>0.0</td>\n",
       "      <td>341.180111</td>\n",
       "      <td>1.055161</td>\n",
       "      <td>0.378715</td>\n",
       "      <td>0.593673</td>\n",
       "      <td>1.317442</td>\n",
       "      <td>9.683358e-07</td>\n",
       "      <td>0.000030</td>\n",
       "      <td>0.000518</td>\n",
       "      <td>0.064797</td>\n",
       "    </tr>\n",
       "    <tr>\n",
       "      <th>2</th>\n",
       "      <td>0.175612</td>\n",
       "      <td>0.392681</td>\n",
       "      <td>40675.45864</td>\n",
       "      <td>20058862.17</td>\n",
       "      <td>1.0</td>\n",
       "      <td>636.586551</td>\n",
       "      <td>0.565516</td>\n",
       "      <td>0.223179</td>\n",
       "      <td>1.125020</td>\n",
       "      <td>1.771452</td>\n",
       "      <td>-1.395668e-06</td>\n",
       "      <td>-0.000012</td>\n",
       "      <td>-0.000869</td>\n",
       "      <td>-0.006343</td>\n",
       "    </tr>\n",
       "    <tr>\n",
       "      <th>3</th>\n",
       "      <td>0.248059</td>\n",
       "      <td>0.554677</td>\n",
       "      <td>55504.52545</td>\n",
       "      <td>41444758.85</td>\n",
       "      <td>1.0</td>\n",
       "      <td>541.981518</td>\n",
       "      <td>0.664229</td>\n",
       "      <td>0.433385</td>\n",
       "      <td>0.737132</td>\n",
       "      <td>1.864749</td>\n",
       "      <td>-2.684856e-07</td>\n",
       "      <td>-0.000007</td>\n",
       "      <td>-0.000430</td>\n",
       "      <td>-0.009523</td>\n",
       "    </tr>\n",
       "    <tr>\n",
       "      <th>4</th>\n",
       "      <td>0.167708</td>\n",
       "      <td>0.375008</td>\n",
       "      <td>45584.89310</td>\n",
       "      <td>37554794.25</td>\n",
       "      <td>6.0</td>\n",
       "      <td>1276.938741</td>\n",
       "      <td>0.281924</td>\n",
       "      <td>0.466313</td>\n",
       "      <td>1.229328</td>\n",
       "      <td>3.377597</td>\n",
       "      <td>-2.495001e-06</td>\n",
       "      <td>-0.000002</td>\n",
       "      <td>-0.015808</td>\n",
       "      <td>-0.013043</td>\n",
       "    </tr>\n",
       "  </tbody>\n",
       "</table>\n",
       "</div>"
      ],
      "text/plain": [
       "   est_diameter_min  est_diameter_max  relative_velocity  miss_distance  \\\n",
       "0          1.214940          2.716689        84574.50244    48800509.14   \n",
       "1          0.092163          0.206082        76177.35114    48676618.10   \n",
       "2          0.175612          0.392681        40675.45864    20058862.17   \n",
       "3          0.248059          0.554677        55504.52545    41444758.85   \n",
       "4          0.167708          0.375008        45584.89310    37554794.25   \n",
       "\n",
       "   orbit_uncertainty  orbital_period  mean_motion  eccentricity  \\\n",
       "0                0.0     1353.300542     0.266016      0.741697   \n",
       "1                0.0      341.180111     1.055161      0.378715   \n",
       "2                1.0      636.586551     0.565516      0.223179   \n",
       "3                1.0      541.981518     0.664229      0.433385   \n",
       "4                6.0     1276.938741     0.281924      0.466313   \n",
       "\n",
       "   perihelion_distance  aphelion_distance  velocity_rate_regression  \\\n",
       "0             0.618482           4.170324             -4.375740e-07   \n",
       "1             0.593673           1.317442              9.683358e-07   \n",
       "2             1.125020           1.771452             -1.395668e-06   \n",
       "3             0.737132           1.864749             -2.684856e-07   \n",
       "4             1.229328           3.377597             -2.495001e-06   \n",
       "\n",
       "   velocity_rate_avg  miss_distance_rate_regression  miss_distance_rate_avg  \n",
       "0          -0.000005                       0.000452                0.004685  \n",
       "1           0.000030                       0.000518                0.064797  \n",
       "2          -0.000012                      -0.000869               -0.006343  \n",
       "3          -0.000007                      -0.000430               -0.009523  \n",
       "4          -0.000002                      -0.015808               -0.013043  "
      ]
     },
     "execution_count": 26,
     "metadata": {},
     "output_type": "execute_result"
    }
   ],
   "source": [
    "X.head()"
   ]
  },
  {
   "cell_type": "code",
   "execution_count": 25,
   "metadata": {},
   "outputs": [
    {
     "name": "stdout",
     "output_type": "stream",
     "text": [
      "Labels\n",
      "<class 'pandas.core.series.Series'>\n",
      "RangeIndex: 90000 entries, 0 to 89999\n",
      "Series name: hazardous\n",
      "Non-Null Count  Dtype\n",
      "--------------  -----\n",
      "90000 non-null  int64\n",
      "dtypes: int64(1)\n",
      "memory usage: 703.3 KB\n"
     ]
    }
   ],
   "source": [
    "print(\"Labels\")\n",
    "Y.info()"
   ]
  },
  {
   "cell_type": "code",
   "execution_count": 27,
   "metadata": {},
   "outputs": [
    {
     "data": {
      "text/plain": [
       "0    0\n",
       "1    0\n",
       "2    0\n",
       "3    0\n",
       "4    0\n",
       "Name: hazardous, dtype: int64"
      ]
     },
     "execution_count": 27,
     "metadata": {},
     "output_type": "execute_result"
    }
   ],
   "source": [
    "Y.head()"
   ]
  },
  {
   "cell_type": "code",
   "execution_count": 32,
   "metadata": {},
   "outputs": [
    {
     "data": {
      "text/plain": [
       "['est_diameter_min',\n",
       " 'est_diameter_max',\n",
       " 'relative_velocity',\n",
       " 'miss_distance',\n",
       " 'orbit_uncertainty',\n",
       " 'orbital_period',\n",
       " 'mean_motion',\n",
       " 'eccentricity',\n",
       " 'perihelion_distance',\n",
       " 'aphelion_distance',\n",
       " 'velocity_rate_regression',\n",
       " 'velocity_rate_avg',\n",
       " 'miss_distance_rate_regression',\n",
       " 'miss_distance_rate_avg']"
      ]
     },
     "execution_count": 32,
     "metadata": {},
     "output_type": "execute_result"
    }
   ],
   "source": [
    "features = list(X.columns)\n",
    "features"
   ]
  },
  {
   "cell_type": "code",
   "execution_count": 34,
   "metadata": {},
   "outputs": [
    {
     "data": {
      "text/plain": [
       "'hazardous'"
      ]
     },
     "execution_count": 34,
     "metadata": {},
     "output_type": "execute_result"
    }
   ],
   "source": [
    "labels = 'hazardous'\n",
    "labels"
   ]
  },
  {
   "cell_type": "code",
   "execution_count": 28,
   "metadata": {},
   "outputs": [],
   "source": [
    "seed = 7\n",
    "test_size = 0.2\n",
    "X_train, X_test, Y_train, Y_test = train_test_split(X, Y, test_size=test_size, random_state=seed)"
   ]
  },
  {
   "cell_type": "code",
   "execution_count": 30,
   "metadata": {},
   "outputs": [
    {
     "name": "stdout",
     "output_type": "stream",
     "text": [
      "(72000, 14)\n",
      "(18000, 14)\n",
      "(72000,)\n",
      "(18000,)\n"
     ]
    }
   ],
   "source": [
    "print(X_train.shape)\n",
    "print(X_test.shape)\n",
    "print(Y_train.shape)\n",
    "print(Y_test.shape)"
   ]
  },
  {
   "cell_type": "code",
   "execution_count": 35,
   "metadata": {},
   "outputs": [],
   "source": [
    "trainX = pd.DataFrame(X_train)\n",
    "trainX[labels] = Y_train\n",
    "\n",
    "testX = pd.DataFrame(X_test)\n",
    "testX[labels] = Y_test"
   ]
  },
  {
   "cell_type": "code",
   "execution_count": 37,
   "metadata": {},
   "outputs": [],
   "source": [
    "train_path = './data/processed/train_v.1.csv'\n",
    "trainX.to_csv(train_path)\n",
    "test_path = './data/processed/test_v.1.csv'\n",
    "testX.to_csv(test_path)"
   ]
  },
  {
   "cell_type": "markdown",
   "metadata": {},
   "source": [
    "### Upload Processed Data to S3"
   ]
  },
  {
   "cell_type": "code",
   "execution_count": 41,
   "metadata": {},
   "outputs": [],
   "source": [
    "sagemaker_client = boto3.client(\"sagemaker\")\n",
    "session = sagemaker.Session()\n",
    "region = session.boto_session.region_name\n",
    "bucket = 's3-nasa-neo-watch'\n",
    "prefix = \"sagemaker/nasa_neo_watch/sklearncontainer\""
   ]
  },
  {
   "cell_type": "code",
   "execution_count": 42,
   "metadata": {},
   "outputs": [],
   "source": [
    "trainpath = session.upload_data(path = train_path, bucket = bucket, key_prefix = prefix)\n",
    "testpath = session.upload_data(path = test_path, bucket = bucket, key_prefix = prefix)"
   ]
  },
  {
   "cell_type": "code",
   "execution_count": 43,
   "metadata": {},
   "outputs": [
    {
     "name": "stdout",
     "output_type": "stream",
     "text": [
      "s3://s3-nasa-neo-watch/sagemaker/nasa_neo_watch/sklearncontainer/train_v.1.csv\n",
      "s3://s3-nasa-neo-watch/sagemaker/nasa_neo_watch/sklearncontainer/test_v.1.csv\n"
     ]
    }
   ],
   "source": [
    "print(trainpath)\n",
    "print(testpath)"
   ]
  }
 ],
 "metadata": {
  "kernelspec": {
   "display_name": "venv",
   "language": "python",
   "name": "python3"
  },
  "language_info": {
   "codemirror_mode": {
    "name": "ipython",
    "version": 3
   },
   "file_extension": ".py",
   "mimetype": "text/x-python",
   "name": "python",
   "nbconvert_exporter": "python",
   "pygments_lexer": "ipython3",
   "version": "3.12.3"
  }
 },
 "nbformat": 4,
 "nbformat_minor": 2
}

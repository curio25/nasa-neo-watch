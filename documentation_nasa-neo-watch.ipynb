{
 "cells": [
  {
   "cell_type": "markdown",
   "metadata": {},
   "source": [
    "# NASA Asteroid Hazard Classification with SageMaker and XGBoost"
   ]
  },
  {
   "cell_type": "markdown",
   "metadata": {},
   "source": [
    "### Imports"
   ]
  },
  {
   "cell_type": "code",
   "execution_count": 35,
   "metadata": {},
   "outputs": [],
   "source": [
    "import setuptools\n",
    "import sagemaker\n",
    "from sklearn.model_selection import train_test_split \n",
    "import boto3\n",
    "import pandas as pd\n",
    "from sagemaker.inputs import TrainingInput\n",
    "from sagemaker.serializers import CSVSerializer\n",
    "from sagemaker import get_execution_role"
   ]
  },
  {
   "cell_type": "markdown",
   "metadata": {},
   "source": [
    "### Data Processing"
   ]
  },
  {
   "cell_type": "code",
   "execution_count": 93,
   "metadata": {},
   "outputs": [],
   "source": [
    "data = pd.read_csv('./data/raw/neo_clean.csv')"
   ]
  },
  {
   "cell_type": "code",
   "execution_count": 94,
   "metadata": {},
   "outputs": [
    {
     "name": "stdout",
     "output_type": "stream",
     "text": [
      "<class 'pandas.core.frame.DataFrame'>\n",
      "RangeIndex: 90000 entries, 0 to 89999\n",
      "Data columns (total 18 columns):\n",
      " #   Column                         Non-Null Count  Dtype  \n",
      "---  ------                         --------------  -----  \n",
      " 0   absolute_magnitude             90000 non-null  float64\n",
      " 1   est_diameter_min               90000 non-null  float64\n",
      " 2   est_diameter_max               90000 non-null  float64\n",
      " 3   close_approach_date            90000 non-null  object \n",
      " 4   relative_velocity              90000 non-null  float64\n",
      " 5   miss_distance                  90000 non-null  float64\n",
      " 6   orbit_uncertainty              89967 non-null  float64\n",
      " 7   minimum_orbit_intersection     89967 non-null  float64\n",
      " 8   orbital_period                 89967 non-null  float64\n",
      " 9   mean_motion                    89967 non-null  float64\n",
      " 10  eccentricity                   89967 non-null  float64\n",
      " 11  perihelion_distance            89967 non-null  float64\n",
      " 12  aphelion_distance              89967 non-null  float64\n",
      " 13  hazardous                      90000 non-null  bool   \n",
      " 14  velocity_rate_regression       83349 non-null  float64\n",
      " 15  velocity_rate_avg              83349 non-null  float64\n",
      " 16  miss_distance_rate_regression  83349 non-null  float64\n",
      " 17  miss_distance_rate_avg         83349 non-null  float64\n",
      "dtypes: bool(1), float64(16), object(1)\n",
      "memory usage: 11.8+ MB\n"
     ]
    },
    {
     "data": {
      "text/html": [
       "<div>\n",
       "<style scoped>\n",
       "    .dataframe tbody tr th:only-of-type {\n",
       "        vertical-align: middle;\n",
       "    }\n",
       "\n",
       "    .dataframe tbody tr th {\n",
       "        vertical-align: top;\n",
       "    }\n",
       "\n",
       "    .dataframe thead th {\n",
       "        text-align: right;\n",
       "    }\n",
       "</style>\n",
       "<table border=\"1\" class=\"dataframe\">\n",
       "  <thead>\n",
       "    <tr style=\"text-align: right;\">\n",
       "      <th></th>\n",
       "      <th>absolute_magnitude</th>\n",
       "      <th>est_diameter_min</th>\n",
       "      <th>est_diameter_max</th>\n",
       "      <th>close_approach_date</th>\n",
       "      <th>relative_velocity</th>\n",
       "      <th>miss_distance</th>\n",
       "      <th>orbit_uncertainty</th>\n",
       "      <th>minimum_orbit_intersection</th>\n",
       "      <th>orbital_period</th>\n",
       "      <th>mean_motion</th>\n",
       "      <th>eccentricity</th>\n",
       "      <th>perihelion_distance</th>\n",
       "      <th>aphelion_distance</th>\n",
       "      <th>hazardous</th>\n",
       "      <th>velocity_rate_regression</th>\n",
       "      <th>velocity_rate_avg</th>\n",
       "      <th>miss_distance_rate_regression</th>\n",
       "      <th>miss_distance_rate_avg</th>\n",
       "    </tr>\n",
       "  </thead>\n",
       "  <tbody>\n",
       "    <tr>\n",
       "      <th>0</th>\n",
       "      <td>16.70</td>\n",
       "      <td>1.214940</td>\n",
       "      <td>2.716689</td>\n",
       "      <td>31/05/2003</td>\n",
       "      <td>84574.50244</td>\n",
       "      <td>48800509.14</td>\n",
       "      <td>0.0</td>\n",
       "      <td>0.304744</td>\n",
       "      <td>1353.300542</td>\n",
       "      <td>0.266016</td>\n",
       "      <td>0.741697</td>\n",
       "      <td>0.618482</td>\n",
       "      <td>4.170324</td>\n",
       "      <td>False</td>\n",
       "      <td>-4.375740e-07</td>\n",
       "      <td>-0.000005</td>\n",
       "      <td>0.000452</td>\n",
       "      <td>0.004685</td>\n",
       "    </tr>\n",
       "    <tr>\n",
       "      <th>1</th>\n",
       "      <td>22.30</td>\n",
       "      <td>0.092163</td>\n",
       "      <td>0.206082</td>\n",
       "      <td>31/05/2003</td>\n",
       "      <td>76177.35114</td>\n",
       "      <td>48676618.10</td>\n",
       "      <td>0.0</td>\n",
       "      <td>0.011805</td>\n",
       "      <td>341.180111</td>\n",
       "      <td>1.055161</td>\n",
       "      <td>0.378715</td>\n",
       "      <td>0.593673</td>\n",
       "      <td>1.317442</td>\n",
       "      <td>False</td>\n",
       "      <td>9.683358e-07</td>\n",
       "      <td>0.000030</td>\n",
       "      <td>0.000518</td>\n",
       "      <td>0.064797</td>\n",
       "    </tr>\n",
       "    <tr>\n",
       "      <th>2</th>\n",
       "      <td>20.90</td>\n",
       "      <td>0.175612</td>\n",
       "      <td>0.392681</td>\n",
       "      <td>31/05/2003</td>\n",
       "      <td>40675.45864</td>\n",
       "      <td>20058862.17</td>\n",
       "      <td>1.0</td>\n",
       "      <td>0.130954</td>\n",
       "      <td>636.586551</td>\n",
       "      <td>0.565516</td>\n",
       "      <td>0.223179</td>\n",
       "      <td>1.125020</td>\n",
       "      <td>1.771452</td>\n",
       "      <td>False</td>\n",
       "      <td>-1.395668e-06</td>\n",
       "      <td>-0.000012</td>\n",
       "      <td>-0.000869</td>\n",
       "      <td>-0.006343</td>\n",
       "    </tr>\n",
       "    <tr>\n",
       "      <th>3</th>\n",
       "      <td>20.15</td>\n",
       "      <td>0.248059</td>\n",
       "      <td>0.554677</td>\n",
       "      <td>31/05/2003</td>\n",
       "      <td>55504.52545</td>\n",
       "      <td>41444758.85</td>\n",
       "      <td>1.0</td>\n",
       "      <td>0.253456</td>\n",
       "      <td>541.981518</td>\n",
       "      <td>0.664229</td>\n",
       "      <td>0.433385</td>\n",
       "      <td>0.737132</td>\n",
       "      <td>1.864749</td>\n",
       "      <td>False</td>\n",
       "      <td>-2.684856e-07</td>\n",
       "      <td>-0.000007</td>\n",
       "      <td>-0.000430</td>\n",
       "      <td>-0.009523</td>\n",
       "    </tr>\n",
       "    <tr>\n",
       "      <th>4</th>\n",
       "      <td>21.00</td>\n",
       "      <td>0.167708</td>\n",
       "      <td>0.375008</td>\n",
       "      <td>31/05/2003</td>\n",
       "      <td>45584.89310</td>\n",
       "      <td>37554794.25</td>\n",
       "      <td>6.0</td>\n",
       "      <td>0.219619</td>\n",
       "      <td>1276.938741</td>\n",
       "      <td>0.281924</td>\n",
       "      <td>0.466313</td>\n",
       "      <td>1.229328</td>\n",
       "      <td>3.377597</td>\n",
       "      <td>False</td>\n",
       "      <td>-2.495001e-06</td>\n",
       "      <td>-0.000002</td>\n",
       "      <td>-0.015808</td>\n",
       "      <td>-0.013043</td>\n",
       "    </tr>\n",
       "  </tbody>\n",
       "</table>\n",
       "</div>"
      ],
      "text/plain": [
       "   absolute_magnitude  est_diameter_min  est_diameter_max close_approach_date  \\\n",
       "0               16.70          1.214940          2.716689          31/05/2003   \n",
       "1               22.30          0.092163          0.206082          31/05/2003   \n",
       "2               20.90          0.175612          0.392681          31/05/2003   \n",
       "3               20.15          0.248059          0.554677          31/05/2003   \n",
       "4               21.00          0.167708          0.375008          31/05/2003   \n",
       "\n",
       "   relative_velocity  miss_distance  orbit_uncertainty  \\\n",
       "0        84574.50244    48800509.14                0.0   \n",
       "1        76177.35114    48676618.10                0.0   \n",
       "2        40675.45864    20058862.17                1.0   \n",
       "3        55504.52545    41444758.85                1.0   \n",
       "4        45584.89310    37554794.25                6.0   \n",
       "\n",
       "   minimum_orbit_intersection  orbital_period  mean_motion  eccentricity  \\\n",
       "0                    0.304744     1353.300542     0.266016      0.741697   \n",
       "1                    0.011805      341.180111     1.055161      0.378715   \n",
       "2                    0.130954      636.586551     0.565516      0.223179   \n",
       "3                    0.253456      541.981518     0.664229      0.433385   \n",
       "4                    0.219619     1276.938741     0.281924      0.466313   \n",
       "\n",
       "   perihelion_distance  aphelion_distance  hazardous  \\\n",
       "0             0.618482           4.170324      False   \n",
       "1             0.593673           1.317442      False   \n",
       "2             1.125020           1.771452      False   \n",
       "3             0.737132           1.864749      False   \n",
       "4             1.229328           3.377597      False   \n",
       "\n",
       "   velocity_rate_regression  velocity_rate_avg  miss_distance_rate_regression  \\\n",
       "0             -4.375740e-07          -0.000005                       0.000452   \n",
       "1              9.683358e-07           0.000030                       0.000518   \n",
       "2             -1.395668e-06          -0.000012                      -0.000869   \n",
       "3             -2.684856e-07          -0.000007                      -0.000430   \n",
       "4             -2.495001e-06          -0.000002                      -0.015808   \n",
       "\n",
       "   miss_distance_rate_avg  \n",
       "0                0.004685  \n",
       "1                0.064797  \n",
       "2               -0.006343  \n",
       "3               -0.009523  \n",
       "4               -0.013043  "
      ]
     },
     "execution_count": 94,
     "metadata": {},
     "output_type": "execute_result"
    }
   ],
   "source": [
    "data.info()\n",
    "data.head()"
   ]
  },
  {
   "cell_type": "code",
   "execution_count": 95,
   "metadata": {},
   "outputs": [],
   "source": [
    "data['hazardous'] = data['hazardous'].apply(lambda x: 0 if x == False else 1)\n",
    "data.drop(columns = ['close_approach_date', 'absolute_magnitude', 'minimum_orbit_intersection'], inplace = True)\n",
    "#data.drop(columns = ['close_approach_date'], inplace = True)\n",
    "#data.dropna(inplace = True)"
   ]
  },
  {
   "cell_type": "code",
   "execution_count": 96,
   "metadata": {},
   "outputs": [
    {
     "name": "stdout",
     "output_type": "stream",
     "text": [
      "['est_diameter_min', 'est_diameter_max', 'relative_velocity', 'miss_distance', 'orbit_uncertainty', 'orbital_period', 'mean_motion', 'eccentricity', 'perihelion_distance', 'aphelion_distance', 'velocity_rate_regression', 'velocity_rate_avg', 'miss_distance_rate_regression', 'miss_distance_rate_avg']\n"
     ]
    }
   ],
   "source": [
    "features = list(data.columns)\n",
    "features.remove('hazardous')\n",
    "print(features)"
   ]
  },
  {
   "cell_type": "code",
   "execution_count": 97,
   "metadata": {},
   "outputs": [],
   "source": [
    "X, Y = data[features], data['hazardous']"
   ]
  },
  {
   "cell_type": "markdown",
   "metadata": {},
   "source": [
    "### Features and Labels"
   ]
  },
  {
   "cell_type": "code",
   "execution_count": 98,
   "metadata": {},
   "outputs": [
    {
     "name": "stdout",
     "output_type": "stream",
     "text": [
      "<class 'pandas.core.frame.DataFrame'>\n",
      "RangeIndex: 90000 entries, 0 to 89999\n",
      "Data columns (total 15 columns):\n",
      " #   Column                         Non-Null Count  Dtype  \n",
      "---  ------                         --------------  -----  \n",
      " 0   est_diameter_min               90000 non-null  float64\n",
      " 1   est_diameter_max               90000 non-null  float64\n",
      " 2   relative_velocity              90000 non-null  float64\n",
      " 3   miss_distance                  90000 non-null  float64\n",
      " 4   orbit_uncertainty              89967 non-null  float64\n",
      " 5   orbital_period                 89967 non-null  float64\n",
      " 6   mean_motion                    89967 non-null  float64\n",
      " 7   eccentricity                   89967 non-null  float64\n",
      " 8   perihelion_distance            89967 non-null  float64\n",
      " 9   aphelion_distance              89967 non-null  float64\n",
      " 10  hazardous                      90000 non-null  int64  \n",
      " 11  velocity_rate_regression       83349 non-null  float64\n",
      " 12  velocity_rate_avg              83349 non-null  float64\n",
      " 13  miss_distance_rate_regression  83349 non-null  float64\n",
      " 14  miss_distance_rate_avg         83349 non-null  float64\n",
      "dtypes: float64(14), int64(1)\n",
      "memory usage: 10.3 MB\n"
     ]
    }
   ],
   "source": [
    "data.info()"
   ]
  },
  {
   "cell_type": "code",
   "execution_count": 99,
   "metadata": {},
   "outputs": [
    {
     "name": "stdout",
     "output_type": "stream",
     "text": [
      "Features\n",
      "<class 'pandas.core.frame.DataFrame'>\n",
      "RangeIndex: 90000 entries, 0 to 89999\n",
      "Data columns (total 14 columns):\n",
      " #   Column                         Non-Null Count  Dtype  \n",
      "---  ------                         --------------  -----  \n",
      " 0   est_diameter_min               90000 non-null  float64\n",
      " 1   est_diameter_max               90000 non-null  float64\n",
      " 2   relative_velocity              90000 non-null  float64\n",
      " 3   miss_distance                  90000 non-null  float64\n",
      " 4   orbit_uncertainty              89967 non-null  float64\n",
      " 5   orbital_period                 89967 non-null  float64\n",
      " 6   mean_motion                    89967 non-null  float64\n",
      " 7   eccentricity                   89967 non-null  float64\n",
      " 8   perihelion_distance            89967 non-null  float64\n",
      " 9   aphelion_distance              89967 non-null  float64\n",
      " 10  velocity_rate_regression       83349 non-null  float64\n",
      " 11  velocity_rate_avg              83349 non-null  float64\n",
      " 12  miss_distance_rate_regression  83349 non-null  float64\n",
      " 13  miss_distance_rate_avg         83349 non-null  float64\n",
      "dtypes: float64(14)\n",
      "memory usage: 9.6 MB\n"
     ]
    }
   ],
   "source": [
    "print(\"Features\")\n",
    "X.info()"
   ]
  },
  {
   "cell_type": "code",
   "execution_count": 100,
   "metadata": {},
   "outputs": [
    {
     "data": {
      "text/html": [
       "<div>\n",
       "<style scoped>\n",
       "    .dataframe tbody tr th:only-of-type {\n",
       "        vertical-align: middle;\n",
       "    }\n",
       "\n",
       "    .dataframe tbody tr th {\n",
       "        vertical-align: top;\n",
       "    }\n",
       "\n",
       "    .dataframe thead th {\n",
       "        text-align: right;\n",
       "    }\n",
       "</style>\n",
       "<table border=\"1\" class=\"dataframe\">\n",
       "  <thead>\n",
       "    <tr style=\"text-align: right;\">\n",
       "      <th></th>\n",
       "      <th>est_diameter_min</th>\n",
       "      <th>est_diameter_max</th>\n",
       "      <th>relative_velocity</th>\n",
       "      <th>miss_distance</th>\n",
       "      <th>orbit_uncertainty</th>\n",
       "      <th>orbital_period</th>\n",
       "      <th>mean_motion</th>\n",
       "      <th>eccentricity</th>\n",
       "      <th>perihelion_distance</th>\n",
       "      <th>aphelion_distance</th>\n",
       "      <th>velocity_rate_regression</th>\n",
       "      <th>velocity_rate_avg</th>\n",
       "      <th>miss_distance_rate_regression</th>\n",
       "      <th>miss_distance_rate_avg</th>\n",
       "    </tr>\n",
       "  </thead>\n",
       "  <tbody>\n",
       "    <tr>\n",
       "      <th>0</th>\n",
       "      <td>1.214940</td>\n",
       "      <td>2.716689</td>\n",
       "      <td>84574.50244</td>\n",
       "      <td>48800509.14</td>\n",
       "      <td>0.0</td>\n",
       "      <td>1353.300542</td>\n",
       "      <td>0.266016</td>\n",
       "      <td>0.741697</td>\n",
       "      <td>0.618482</td>\n",
       "      <td>4.170324</td>\n",
       "      <td>-4.375740e-07</td>\n",
       "      <td>-0.000005</td>\n",
       "      <td>0.000452</td>\n",
       "      <td>0.004685</td>\n",
       "    </tr>\n",
       "    <tr>\n",
       "      <th>1</th>\n",
       "      <td>0.092163</td>\n",
       "      <td>0.206082</td>\n",
       "      <td>76177.35114</td>\n",
       "      <td>48676618.10</td>\n",
       "      <td>0.0</td>\n",
       "      <td>341.180111</td>\n",
       "      <td>1.055161</td>\n",
       "      <td>0.378715</td>\n",
       "      <td>0.593673</td>\n",
       "      <td>1.317442</td>\n",
       "      <td>9.683358e-07</td>\n",
       "      <td>0.000030</td>\n",
       "      <td>0.000518</td>\n",
       "      <td>0.064797</td>\n",
       "    </tr>\n",
       "    <tr>\n",
       "      <th>2</th>\n",
       "      <td>0.175612</td>\n",
       "      <td>0.392681</td>\n",
       "      <td>40675.45864</td>\n",
       "      <td>20058862.17</td>\n",
       "      <td>1.0</td>\n",
       "      <td>636.586551</td>\n",
       "      <td>0.565516</td>\n",
       "      <td>0.223179</td>\n",
       "      <td>1.125020</td>\n",
       "      <td>1.771452</td>\n",
       "      <td>-1.395668e-06</td>\n",
       "      <td>-0.000012</td>\n",
       "      <td>-0.000869</td>\n",
       "      <td>-0.006343</td>\n",
       "    </tr>\n",
       "    <tr>\n",
       "      <th>3</th>\n",
       "      <td>0.248059</td>\n",
       "      <td>0.554677</td>\n",
       "      <td>55504.52545</td>\n",
       "      <td>41444758.85</td>\n",
       "      <td>1.0</td>\n",
       "      <td>541.981518</td>\n",
       "      <td>0.664229</td>\n",
       "      <td>0.433385</td>\n",
       "      <td>0.737132</td>\n",
       "      <td>1.864749</td>\n",
       "      <td>-2.684856e-07</td>\n",
       "      <td>-0.000007</td>\n",
       "      <td>-0.000430</td>\n",
       "      <td>-0.009523</td>\n",
       "    </tr>\n",
       "    <tr>\n",
       "      <th>4</th>\n",
       "      <td>0.167708</td>\n",
       "      <td>0.375008</td>\n",
       "      <td>45584.89310</td>\n",
       "      <td>37554794.25</td>\n",
       "      <td>6.0</td>\n",
       "      <td>1276.938741</td>\n",
       "      <td>0.281924</td>\n",
       "      <td>0.466313</td>\n",
       "      <td>1.229328</td>\n",
       "      <td>3.377597</td>\n",
       "      <td>-2.495001e-06</td>\n",
       "      <td>-0.000002</td>\n",
       "      <td>-0.015808</td>\n",
       "      <td>-0.013043</td>\n",
       "    </tr>\n",
       "  </tbody>\n",
       "</table>\n",
       "</div>"
      ],
      "text/plain": [
       "   est_diameter_min  est_diameter_max  relative_velocity  miss_distance  \\\n",
       "0          1.214940          2.716689        84574.50244    48800509.14   \n",
       "1          0.092163          0.206082        76177.35114    48676618.10   \n",
       "2          0.175612          0.392681        40675.45864    20058862.17   \n",
       "3          0.248059          0.554677        55504.52545    41444758.85   \n",
       "4          0.167708          0.375008        45584.89310    37554794.25   \n",
       "\n",
       "   orbit_uncertainty  orbital_period  mean_motion  eccentricity  \\\n",
       "0                0.0     1353.300542     0.266016      0.741697   \n",
       "1                0.0      341.180111     1.055161      0.378715   \n",
       "2                1.0      636.586551     0.565516      0.223179   \n",
       "3                1.0      541.981518     0.664229      0.433385   \n",
       "4                6.0     1276.938741     0.281924      0.466313   \n",
       "\n",
       "   perihelion_distance  aphelion_distance  velocity_rate_regression  \\\n",
       "0             0.618482           4.170324             -4.375740e-07   \n",
       "1             0.593673           1.317442              9.683358e-07   \n",
       "2             1.125020           1.771452             -1.395668e-06   \n",
       "3             0.737132           1.864749             -2.684856e-07   \n",
       "4             1.229328           3.377597             -2.495001e-06   \n",
       "\n",
       "   velocity_rate_avg  miss_distance_rate_regression  miss_distance_rate_avg  \n",
       "0          -0.000005                       0.000452                0.004685  \n",
       "1           0.000030                       0.000518                0.064797  \n",
       "2          -0.000012                      -0.000869               -0.006343  \n",
       "3          -0.000007                      -0.000430               -0.009523  \n",
       "4          -0.000002                      -0.015808               -0.013043  "
      ]
     },
     "execution_count": 100,
     "metadata": {},
     "output_type": "execute_result"
    }
   ],
   "source": [
    "X.head()"
   ]
  },
  {
   "cell_type": "code",
   "execution_count": 101,
   "metadata": {},
   "outputs": [
    {
     "name": "stdout",
     "output_type": "stream",
     "text": [
      "Labels\n",
      "<class 'pandas.core.series.Series'>\n",
      "RangeIndex: 90000 entries, 0 to 89999\n",
      "Series name: hazardous\n",
      "Non-Null Count  Dtype\n",
      "--------------  -----\n",
      "90000 non-null  int64\n",
      "dtypes: int64(1)\n",
      "memory usage: 703.3 KB\n"
     ]
    }
   ],
   "source": [
    "print(\"Labels\")\n",
    "Y.info()"
   ]
  },
  {
   "cell_type": "code",
   "execution_count": 102,
   "metadata": {},
   "outputs": [
    {
     "data": {
      "text/plain": [
       "0    0\n",
       "1    0\n",
       "2    0\n",
       "3    0\n",
       "4    0\n",
       "Name: hazardous, dtype: int64"
      ]
     },
     "execution_count": 102,
     "metadata": {},
     "output_type": "execute_result"
    }
   ],
   "source": [
    "Y.head()"
   ]
  },
  {
   "cell_type": "code",
   "execution_count": 103,
   "metadata": {},
   "outputs": [
    {
     "data": {
      "text/plain": [
       "['est_diameter_min',\n",
       " 'est_diameter_max',\n",
       " 'relative_velocity',\n",
       " 'miss_distance',\n",
       " 'orbit_uncertainty',\n",
       " 'orbital_period',\n",
       " 'mean_motion',\n",
       " 'eccentricity',\n",
       " 'perihelion_distance',\n",
       " 'aphelion_distance',\n",
       " 'velocity_rate_regression',\n",
       " 'velocity_rate_avg',\n",
       " 'miss_distance_rate_regression',\n",
       " 'miss_distance_rate_avg']"
      ]
     },
     "execution_count": 103,
     "metadata": {},
     "output_type": "execute_result"
    }
   ],
   "source": [
    "features = list(X.columns)\n",
    "features"
   ]
  },
  {
   "cell_type": "code",
   "execution_count": 104,
   "metadata": {},
   "outputs": [
    {
     "data": {
      "text/plain": [
       "'hazardous'"
      ]
     },
     "execution_count": 104,
     "metadata": {},
     "output_type": "execute_result"
    }
   ],
   "source": [
    "labels = 'hazardous'\n",
    "labels"
   ]
  },
  {
   "cell_type": "code",
   "execution_count": 105,
   "metadata": {},
   "outputs": [],
   "source": [
    "seed = 7\n",
    "test_size = 0.2\n",
    "X_train, X_test, Y_train, Y_test = train_test_split(X, Y, test_size=test_size, random_state=seed)"
   ]
  },
  {
   "cell_type": "code",
   "execution_count": 106,
   "metadata": {},
   "outputs": [],
   "source": [
    "X_train, X_val, Y_train, Y_val = train_test_split(X_train, Y_train, test_size=test_size, random_state=seed)"
   ]
  },
  {
   "cell_type": "code",
   "execution_count": 107,
   "metadata": {},
   "outputs": [
    {
     "name": "stdout",
     "output_type": "stream",
     "text": [
      "(57600, 14)\n",
      "(14400, 14)\n",
      "(18000, 14)\n",
      "(57600,)\n",
      "(14400,)\n",
      "(18000,)\n"
     ]
    }
   ],
   "source": [
    "print(X_train.shape)\n",
    "print(X_val.shape)\n",
    "print(X_test.shape)\n",
    "print(Y_train.shape)\n",
    "print(Y_val.shape)\n",
    "print(Y_test.shape)"
   ]
  },
  {
   "cell_type": "code",
   "execution_count": 108,
   "metadata": {},
   "outputs": [],
   "source": [
    "trainX = pd.DataFrame(X_train)\n",
    "trainX[labels] = Y_train\n",
    "\n",
    "valX = pd.DataFrame(X_val)\n",
    "valX[labels] = Y_val\n",
    "\n",
    "testX = pd.DataFrame(X_test)\n",
    "testX[labels] = Y_test"
   ]
  },
  {
   "cell_type": "code",
   "execution_count": 109,
   "metadata": {},
   "outputs": [],
   "source": [
    "# Check if the hazardous column contains only 0 and 1\n",
    "assert trainX['hazardous'].isin([0, 1]).all(), \"Training data has invalid labels\"\n",
    "assert valX['hazardous'].isin([0, 1]).all(), \"Validation data has invalid labels\"\n",
    "assert testX['hazardous'].isin([0, 1]).all(), \"Validation data has invalid labels\""
   ]
  },
  {
   "cell_type": "code",
   "execution_count": 110,
   "metadata": {},
   "outputs": [],
   "source": [
    "train_path = './data/processed/train_v.1.csv'\n",
    "trainX.to_csv(train_path, index=False)\n",
    "val_path = './data/processed/val_v.1.csv'\n",
    "valX.to_csv(val_path, index=False)\n",
    "test_path = './data/processed/test_v.1.csv'\n",
    "testX.to_csv(test_path, index=False)"
   ]
  },
  {
   "cell_type": "markdown",
   "metadata": {},
   "source": [
    "### Upload Processed Data to S3"
   ]
  },
  {
   "cell_type": "code",
   "execution_count": 111,
   "metadata": {},
   "outputs": [],
   "source": [
    "sagemaker_client = boto3.client(\"sagemaker\")\n",
    "session = sagemaker.Session()\n",
    "region = session.boto_session.region_name\n",
    "bucket = 's3-nasa-neo-watch'\n",
    "prefix = \"v1\"\n",
    "role = \"arn:aws:iam::949672723150:role/qte4288_SageMakerExecutionRole\""
   ]
  },
  {
   "cell_type": "code",
   "execution_count": 112,
   "metadata": {},
   "outputs": [],
   "source": [
    "trainpath = session.upload_data(path = train_path, bucket = bucket, key_prefix = prefix)\n",
    "valpath = session.upload_data(path = val_path, bucket = bucket, key_prefix = prefix)\n",
    "testpath = session.upload_data(path = test_path, bucket = bucket, key_prefix = prefix)"
   ]
  },
  {
   "cell_type": "code",
   "execution_count": 113,
   "metadata": {},
   "outputs": [
    {
     "name": "stdout",
     "output_type": "stream",
     "text": [
      "s3://s3-nasa-neo-watch/v1/train_v.1.csv\n",
      "s3://s3-nasa-neo-watch/v1/val_v.1.csv\n",
      "s3://s3-nasa-neo-watch/v1/test_v.1.csv\n"
     ]
    }
   ],
   "source": [
    "print(trainpath)\n",
    "print(valpath)\n",
    "print(testpath)"
   ]
  },
  {
   "cell_type": "markdown",
   "metadata": {},
   "source": [
    "# Train"
   ]
  },
  {
   "cell_type": "code",
   "execution_count": 84,
   "metadata": {},
   "outputs": [
    {
     "name": "stderr",
     "output_type": "stream",
     "text": [
      "INFO:sagemaker.image_uris:Ignoring unnecessary instance type: None.\n"
     ]
    },
    {
     "data": {
      "text/plain": [
       "'683313688378.dkr.ecr.us-east-1.amazonaws.com/sagemaker-xgboost:1.7-1'"
      ]
     },
     "metadata": {},
     "output_type": "display_data"
    }
   ],
   "source": [
    "#XGBoost Algorithm Container\n",
    "container = sagemaker.image_uris.retrieve(\"xgboost\", region, \"1.7-1\")\n",
    "display(container)"
   ]
  },
  {
   "cell_type": "code",
   "execution_count": 85,
   "metadata": {},
   "outputs": [],
   "source": [
    "s3_input_train = TrainingInput(\n",
    "    s3_data=\"s3://{}/{}/train_v.1\".format(bucket, prefix), content_type=\"csv\"\n",
    ")\n",
    "s3_input_validation = TrainingInput(\n",
    "    s3_data=\"s3://{}/{}/val_v.1\".format(bucket, prefix), content_type=\"csv\"\n",
    ")"
   ]
  },
  {
   "cell_type": "code",
   "execution_count": 86,
   "metadata": {},
   "outputs": [
    {
     "name": "stderr",
     "output_type": "stream",
     "text": [
      "INFO:sagemaker:Creating training-job with name: sagemaker-xgboost-2024-07-31-07-15-51-850\n"
     ]
    },
    {
     "name": "stdout",
     "output_type": "stream",
     "text": [
      "2024-07-31 07:15:52 Starting - Starting the training job...\n",
      "2024-07-31 07:16:08 Starting - Preparing the instances for training...\n",
      "2024-07-31 07:16:35 Downloading - Downloading input data...\n",
      "2024-07-31 07:17:10 Downloading - Downloading the training image......\n",
      "2024-07-31 07:18:16 Training - Training image download completed. Training in progress..[2024-07-31 07:18:33.157 ip-10-2-222-55.ec2.internal:7 INFO utils.py:28] RULE_JOB_STOP_SIGNAL_FILENAME: None\n",
      "[2024-07-31 07:18:33.182 ip-10-2-222-55.ec2.internal:7 INFO profiler_config_parser.py:111] User has disabled profiler.\n",
      "[2024-07-31:07:18:33:INFO] Imported framework sagemaker_xgboost_container.training\n",
      "[2024-07-31:07:18:33:INFO] Failed to parse hyperparameter objective value binary:logistic to Json.\n",
      "Returning the value itself\n",
      "[2024-07-31:07:18:33:INFO] No GPUs detected (normal if no gpus installed)\n",
      "[2024-07-31:07:18:33:INFO] Running XGBoost Sagemaker in algorithm mode\n",
      "[2024-07-31:07:18:33:INFO] Determined 0 GPU(s) available on the instance.\n",
      "[2024-07-31:07:18:33:INFO] Determined delimiter of CSV input is ','\n",
      "[2024-07-31:07:18:33:INFO] Determined delimiter of CSV input is ','\n",
      "[2024-07-31:07:18:33:INFO] File path /opt/ml/input/data/train of input files\n",
      "[2024-07-31:07:18:33:INFO] Making smlinks from folder /opt/ml/input/data/train to folder /tmp/sagemaker_xgboost_input_data\n",
      "[2024-07-31:07:18:33:INFO] creating symlink between Path /opt/ml/input/data/train/train_v.1.csv and destination /tmp/sagemaker_xgboost_input_data/train_v.1.csv-2210839019046812303\n",
      "[2024-07-31:07:18:33:INFO] files path: /tmp/sagemaker_xgboost_input_data\n",
      "[2024-07-31:07:18:33:INFO] Determined delimiter of CSV input is ','\n",
      "[2024-07-31:07:18:33:INFO] File path /opt/ml/input/data/validation of input files\n",
      "[2024-07-31:07:18:33:INFO] Making smlinks from folder /opt/ml/input/data/validation to folder /tmp/sagemaker_xgboost_input_data\n",
      "[2024-07-31:07:18:33:INFO] creating symlink between Path /opt/ml/input/data/validation/val_v.1.csv and destination /tmp/sagemaker_xgboost_input_data/val_v.1.csv5047082719747437620\n",
      "[2024-07-31:07:18:33:INFO] files path: /tmp/sagemaker_xgboost_input_data\n",
      "[2024-07-31:07:18:33:INFO] Determined delimiter of CSV input is ','\n",
      "[2024-07-31:07:18:33:INFO] Single node training.\n",
      "[2024-07-31:07:18:33:INFO] Train matrix has 57601 rows and 14 columns\n",
      "[2024-07-31:07:18:33:INFO] Validation matrix has 14401 rows\n",
      "[2024-07-31 07:18:33.760 ip-10-2-222-55.ec2.internal:7 INFO json_config.py:92] Creating hook from json_config at /opt/ml/input/config/debughookconfig.json.\n",
      "[2024-07-31 07:18:33.761 ip-10-2-222-55.ec2.internal:7 INFO hook.py:206] tensorboard_dir has not been set for the hook. SMDebug will not be exporting tensorboard summaries.\n",
      "[2024-07-31 07:18:33.762 ip-10-2-222-55.ec2.internal:7 INFO hook.py:259] Saving to /opt/ml/output/tensors\n",
      "[2024-07-31 07:18:33.762 ip-10-2-222-55.ec2.internal:7 INFO state_store.py:77] The checkpoint config file /opt/ml/input/config/checkpointconfig.json does not exist.\n",
      "[2024-07-31:07:18:33:INFO] Debug hook created from config\n",
      "[2024-07-31:07:18:33:ERROR] Reporting training FAILURE\n",
      "[2024-07-31:07:18:33:ERROR] framework error: \n",
      "Traceback (most recent call last):\n",
      "  File \"/miniconda3/lib/python3.8/site-packages/sagemaker_xgboost_container/algorithm_mode/train.py\", line 319, in train_job\n",
      "    bst = xgb.train(\n",
      "  File \"/miniconda3/lib/python3.8/site-packages/xgboost/core.py\", line 620, in inner_f\n",
      "    return func(**kwargs)\n",
      "  File \"/miniconda3/lib/python3.8/site-packages/xgboost/training.py\", line 185, in train\n",
      "    bst.update(dtrain, i, obj)\n",
      "  File \"/miniconda3/lib/python3.8/site-packages/xgboost/core.py\", line 1918, in update\n",
      "    _check_call(_LIB.XGBoosterUpdateOneIter(self.handle,\n",
      "  File \"/miniconda3/lib/python3.8/site-packages/xgboost/core.py\", line 279, in _check_call\n",
      "    raise XGBoostError(py_str(_LIB.XGBGetLastError()))\n",
      "xgboost.core.XGBoostError: [07:18:33] ../src/objective/regression_obj.cu:148: label must be in [0,1] for logistic regression\n",
      "Stack trace:\n",
      "  [bt] (0) /miniconda3/lib/python3.8/site-packages/xgboost/lib/libxgboost.so(+0x68eaf9) [0x7f2a0d58daf9]\n",
      "  [bt] (1) /miniconda3/lib/python3.8/site-packages/xgboost/lib/libxgboost.so(+0x6a9018) [0x7f2a0d5a8018]\n",
      "  [bt] (2) /miniconda3/lib/python3.8/site-packages/xgboost/lib/libxgboost.so(+0x2dc588) [0x7f2a0d1db588]\n",
      "  [bt] (3) /miniconda3/lib/python3.8/site-packages/xgboost/lib/libxgboost.so(XGBoosterUpdateOneIter+0x70) [0x7f2a0d02cbe0]\n",
      "  [bt] (4) /miniconda3/lib/python3.8/lib-dynload/../../libffi.so.8(+0x6a4a) [0x7f2a3e532a4a]\n",
      "  [bt] (5) /miniconda3/lib/python3.8/lib-dynload/../../libffi.so.8(+0x5fea) [0x7f2a3e531fea]\n",
      "  [bt] (6) /miniconda3/lib/python3.8/lib-dynload/_ctypes.cpython-38-x86_64-linux-gnu.so(_ctypes_callproc+0x9d2) [0x7f2a33727db2]\n",
      "  [bt] (7) /miniconda3/lib/python3.8/lib-dynload/_ctypes.cpython-38-x86_64-linux-gnu.so(+0x91b7) [0x7f2a3371d1b7]\n",
      "  [bt] (8) /miniconda3/bin/python3(_PyObject_MakeTpCall+0x501) [0x556ce0553651]\n",
      "During handling of the above exception, another exception occurred:\n",
      "Traceback (most recent call last):\n",
      "  File \"/miniconda3/lib/python3.8/site-packages/sagemaker_containers/_trainer.py\", line 84, in train\n",
      "    entrypoint()\n",
      "  File \"/miniconda3/lib/python3.8/site-packages/sagemaker_xgboost_container/training.py\", line 102, in main\n",
      "    train(framework.training_env())\n",
      "  File \"/miniconda3/lib/python3.8/site-packages/sagemaker_xgboost_container/training.py\", line 98, in train\n",
      "    run_algorithm_mode()\n",
      "  File \"/miniconda3/lib/python3.8/site-packages/sagemaker_xgboost_container/training.py\", line 64, in run_algorithm_mode\n",
      "    sagemaker_train(\n",
      "  File \"/miniconda3/lib/python3.8/site-packages/sagemaker_xgboost_container/algorithm_mode/train.py\", line 250, in sagemaker_train\n",
      "    train_job(**train_args)\n",
      "  File \"/miniconda3/lib/python3.8/site-packages/sagemaker_xgboost_container/algorithm_mode/train.py\", line 412, in train_job\n",
      "    raise exc.UserError(str(e))\n",
      "sagemaker_algorithm_toolkit.exceptions.UserError: [07:18:33] ../src/objective/regression_obj.cu:148: label must be in [0,1] for logistic regression\n",
      "Stack trace:\n",
      "  [bt] (0) /miniconda3/lib/python3.8/site-packages/xgboost/lib/libxgboost.so(+0x68eaf9) [0x7f2a0d58daf9]\n",
      "  [bt] (1) /miniconda3/lib/python3.8/site-packages/xgboost/lib/libxgboost.so(+0x6a9018) [0x7f2a0d5a8018]\n",
      "  [bt] (2) /miniconda3/lib/python3.8/site-packages/xgboost/lib/libxgboost.so(+0x2dc588) [0x7f2a0d1db588]\n",
      "  [bt] (3) /miniconda3/lib/python3.8/site-packages/xgboost/lib/libxgboost.so(XGBoosterUpdateOneIter+0x70) [0x7f2a0d02cbe0]\n",
      "  [bt] (4) /miniconda3/lib/python3.8/lib-dynload/../../libffi.so.8(+0x6a4a) [0x7f2a3e532a4a]\n",
      "  [bt] (5) /miniconda3/lib/python3.8/lib-dynload/../../libffi.so.8(+0x5fea) [0x7f2a3e531fea]\n",
      "  [bt] (6) /miniconda3/lib/python3.8/lib-dynload/_ctypes.cpython-38-x86_64-linux-gnu.so(_ctypes_callproc+0x9d2) [0x7f2a33727db2]\n",
      "  [bt] (7) /miniconda3/lib/python3.8/lib-dynload/_ctypes.cpython-38-x86_64-linux-gnu.so(+0x91b7) [0x7f2a3371d1b7]\n",
      "  [bt] (8) /miniconda3/bin/python3(_PyObject_MakeTpCall+0x501) [0x556ce0553651]\n",
      "[07:18:33] ../src/objective/regression_obj.cu:148: label must be in [0,1] for logistic regression\n",
      "Stack trace:\n",
      "  [bt] (0) /miniconda3/lib/python3.8/site-packages/xgboost/lib/libxgboost.so(+0x68eaf9) [0x7f2a0d58daf9]\n",
      "  [bt] (1) /miniconda3/lib/python3.8/site-packages/xgboost/lib/libxgboost.so(+0x6a9018) [0x7f2a0d5a8018]\n",
      "  [bt] (2) /miniconda3/lib/python3.8/site-packages/xgboost/lib/libxgboost.so(+0x2dc588) [0x7f2a0d1db588]\n",
      "  [bt] (3) /miniconda3/lib/python3.8/site-packages/xgboost/lib/libxgboost.so(XGBoosterUpdateOneIter+0x70) [0x7f2a0d02cbe0]\n",
      "  [bt] (4) /miniconda3/lib/python3.8/lib-dynload/../../libffi.so.8(+0x6a4a) [0x7f2a3e532a4a]\n",
      "  [bt] (5) /miniconda3/lib/python3.8/lib-dynload/../../libffi.so.8(+0x5fea) [0x7f2a3e531fea]\n",
      "  [bt] (6) /miniconda3/lib/python3.8/lib-dynload/_ctypes.cpython-38-x86_64-linux-gnu.so(_ctypes_callproc+0x9d2) [0x7f2a33727db2]\n",
      "  [bt] (7) /miniconda3/lib/python3.8/lib-dynload/_ctypes.cpython-38-x86_64-linux-gnu.so(+0x91b7) [0x7f2a3371d1b7]\n",
      "  [bt] (8) /miniconda3/bin/python3(_PyObject_MakeTpCall+0x501) [0x556ce0553651]\n",
      "\n",
      "2024-07-31 07:18:51 Uploading - Uploading generated training model\n",
      "2024-07-31 07:18:51 Failed - Training job failed\n"
     ]
    },
    {
     "ename": "UnexpectedStatusException",
     "evalue": "Error for Training job sagemaker-xgboost-2024-07-31-07-15-51-850: Failed. Reason: AlgorithmError: framework error: \nTraceback (most recent call last):\n  File \"/miniconda3/lib/python3.8/site-packages/sagemaker_xgboost_container/algorithm_mode/train.py\", line 319, in train_job\n    bst = xgb.train(\n  File \"/miniconda3/lib/python3.8/site-packages/xgboost/core.py\", line 620, in inner_f\n    return func(**kwargs)\n  File \"/miniconda3/lib/python3.8/site-packages/xgboost/training.py\", line 185, in train\n    bst.update(dtrain, i, obj)\n  File \"/miniconda3/lib/python3.8/site-packages/xgboost/core.py\", line 1918, in update\n    _check_call(_LIB.XGBoosterUpdateOneIter(self.handle,\n  File \"/miniconda3/lib/python3.8/site-packages/xgboost/core.py\", line 279, in _check_call\n    raise XGBoostError(py_str(_LIB.XGBGetLastError()))\nxgboost.core.XGBoostError: [07:18:33] ../src/objective/regression_obj.cu:148: label must be in [0,1] for logistic regression\nStack trace:\n  [bt] (0) /miniconda3/lib/python3.8/site-packages/xgboost/lib/libxgboost.so(+0x68eaf9) [0x7f2a0d58daf9]\n  [bt] (1) /miniconda3/lib/python3.8/site-p",
     "output_type": "error",
     "traceback": [
      "\u001b[0;31m---------------------------------------------------------------------------\u001b[0m",
      "\u001b[0;31mUnexpectedStatusException\u001b[0m                 Traceback (most recent call last)",
      "\u001b[1;32m/Users/shubhigupta/Documents/GitHub/nasa-neo-watch/documentation_nasa-neo-watch.ipynb Cell 31\u001b[0m line \u001b[0;36m2\n\u001b[1;32m      <a href='vscode-notebook-cell:/Users/shubhigupta/Documents/GitHub/nasa-neo-watch/documentation_nasa-neo-watch.ipynb#X40sZmlsZQ%3D%3D?line=2'>3</a>\u001b[0m xgb \u001b[39m=\u001b[39m sagemaker\u001b[39m.\u001b[39mestimator\u001b[39m.\u001b[39mEstimator(\n\u001b[1;32m      <a href='vscode-notebook-cell:/Users/shubhigupta/Documents/GitHub/nasa-neo-watch/documentation_nasa-neo-watch.ipynb#X40sZmlsZQ%3D%3D?line=3'>4</a>\u001b[0m     container,\n\u001b[1;32m      <a href='vscode-notebook-cell:/Users/shubhigupta/Documents/GitHub/nasa-neo-watch/documentation_nasa-neo-watch.ipynb#X40sZmlsZQ%3D%3D?line=4'>5</a>\u001b[0m     role,\n\u001b[0;32m   (...)\u001b[0m\n\u001b[1;32m      <a href='vscode-notebook-cell:/Users/shubhigupta/Documents/GitHub/nasa-neo-watch/documentation_nasa-neo-watch.ipynb#X40sZmlsZQ%3D%3D?line=8'>9</a>\u001b[0m     sagemaker_session\u001b[39m=\u001b[39msession,\n\u001b[1;32m     <a href='vscode-notebook-cell:/Users/shubhigupta/Documents/GitHub/nasa-neo-watch/documentation_nasa-neo-watch.ipynb#X40sZmlsZQ%3D%3D?line=9'>10</a>\u001b[0m )\n\u001b[1;32m     <a href='vscode-notebook-cell:/Users/shubhigupta/Documents/GitHub/nasa-neo-watch/documentation_nasa-neo-watch.ipynb#X40sZmlsZQ%3D%3D?line=10'>11</a>\u001b[0m xgb\u001b[39m.\u001b[39mset_hyperparameters(\n\u001b[1;32m     <a href='vscode-notebook-cell:/Users/shubhigupta/Documents/GitHub/nasa-neo-watch/documentation_nasa-neo-watch.ipynb#X40sZmlsZQ%3D%3D?line=11'>12</a>\u001b[0m     max_depth\u001b[39m=\u001b[39m\u001b[39m5\u001b[39m,\n\u001b[1;32m     <a href='vscode-notebook-cell:/Users/shubhigupta/Documents/GitHub/nasa-neo-watch/documentation_nasa-neo-watch.ipynb#X40sZmlsZQ%3D%3D?line=12'>13</a>\u001b[0m     eta\u001b[39m=\u001b[39m\u001b[39m0.2\u001b[39m,\n\u001b[0;32m   (...)\u001b[0m\n\u001b[1;32m     <a href='vscode-notebook-cell:/Users/shubhigupta/Documents/GitHub/nasa-neo-watch/documentation_nasa-neo-watch.ipynb#X40sZmlsZQ%3D%3D?line=18'>19</a>\u001b[0m     num_round\u001b[39m=\u001b[39m\u001b[39m100\u001b[39m,\n\u001b[1;32m     <a href='vscode-notebook-cell:/Users/shubhigupta/Documents/GitHub/nasa-neo-watch/documentation_nasa-neo-watch.ipynb#X40sZmlsZQ%3D%3D?line=19'>20</a>\u001b[0m )\n\u001b[0;32m---> <a href='vscode-notebook-cell:/Users/shubhigupta/Documents/GitHub/nasa-neo-watch/documentation_nasa-neo-watch.ipynb#X40sZmlsZQ%3D%3D?line=21'>22</a>\u001b[0m xgb\u001b[39m.\u001b[39;49mfit({\u001b[39m\"\u001b[39;49m\u001b[39mtrain\u001b[39;49m\u001b[39m\"\u001b[39;49m: s3_input_train, \u001b[39m\"\u001b[39;49m\u001b[39mvalidation\u001b[39;49m\u001b[39m\"\u001b[39;49m: s3_input_validation})\n",
      "File \u001b[0;32m~/Documents/GitHub/nasa-neo-watch/venv/lib/python3.12/site-packages/sagemaker/workflow/pipeline_context.py:346\u001b[0m, in \u001b[0;36mrunnable_by_pipeline.<locals>.wrapper\u001b[0;34m(*args, **kwargs)\u001b[0m\n\u001b[1;32m    342\u001b[0m         \u001b[39mreturn\u001b[39;00m context\n\u001b[1;32m    344\u001b[0m     \u001b[39mreturn\u001b[39;00m _StepArguments(retrieve_caller_name(self_instance), run_func, \u001b[39m*\u001b[39margs, \u001b[39m*\u001b[39m\u001b[39m*\u001b[39mkwargs)\n\u001b[0;32m--> 346\u001b[0m \u001b[39mreturn\u001b[39;00m run_func(\u001b[39m*\u001b[39;49margs, \u001b[39m*\u001b[39;49m\u001b[39m*\u001b[39;49mkwargs)\n",
      "File \u001b[0;32m~/Documents/GitHub/nasa-neo-watch/venv/lib/python3.12/site-packages/sagemaker/estimator.py:1349\u001b[0m, in \u001b[0;36mEstimatorBase.fit\u001b[0;34m(self, inputs, wait, logs, job_name, experiment_config)\u001b[0m\n\u001b[1;32m   1347\u001b[0m \u001b[39mself\u001b[39m\u001b[39m.\u001b[39mjobs\u001b[39m.\u001b[39mappend(\u001b[39mself\u001b[39m\u001b[39m.\u001b[39mlatest_training_job)\n\u001b[1;32m   1348\u001b[0m \u001b[39mif\u001b[39;00m wait:\n\u001b[0;32m-> 1349\u001b[0m     \u001b[39mself\u001b[39;49m\u001b[39m.\u001b[39;49mlatest_training_job\u001b[39m.\u001b[39;49mwait(logs\u001b[39m=\u001b[39;49mlogs)\n",
      "File \u001b[0;32m~/Documents/GitHub/nasa-neo-watch/venv/lib/python3.12/site-packages/sagemaker/estimator.py:2710\u001b[0m, in \u001b[0;36m_TrainingJob.wait\u001b[0;34m(self, logs)\u001b[0m\n\u001b[1;32m   2708\u001b[0m \u001b[39m# If logs are requested, call logs_for_jobs.\u001b[39;00m\n\u001b[1;32m   2709\u001b[0m \u001b[39mif\u001b[39;00m logs \u001b[39m!=\u001b[39m \u001b[39m\"\u001b[39m\u001b[39mNone\u001b[39m\u001b[39m\"\u001b[39m:\n\u001b[0;32m-> 2710\u001b[0m     \u001b[39mself\u001b[39;49m\u001b[39m.\u001b[39;49msagemaker_session\u001b[39m.\u001b[39;49mlogs_for_job(\u001b[39mself\u001b[39;49m\u001b[39m.\u001b[39;49mjob_name, wait\u001b[39m=\u001b[39;49m\u001b[39mTrue\u001b[39;49;00m, log_type\u001b[39m=\u001b[39;49mlogs)\n\u001b[1;32m   2711\u001b[0m \u001b[39melse\u001b[39;00m:\n\u001b[1;32m   2712\u001b[0m     \u001b[39mself\u001b[39m\u001b[39m.\u001b[39msagemaker_session\u001b[39m.\u001b[39mwait_for_job(\u001b[39mself\u001b[39m\u001b[39m.\u001b[39mjob_name)\n",
      "File \u001b[0;32m~/Documents/GitHub/nasa-neo-watch/venv/lib/python3.12/site-packages/sagemaker/session.py:5853\u001b[0m, in \u001b[0;36mSession.logs_for_job\u001b[0;34m(self, job_name, wait, poll, log_type, timeout)\u001b[0m\n\u001b[1;32m   5832\u001b[0m \u001b[39mdef\u001b[39;00m \u001b[39mlogs_for_job\u001b[39m(\u001b[39mself\u001b[39m, job_name, wait\u001b[39m=\u001b[39m\u001b[39mFalse\u001b[39;00m, poll\u001b[39m=\u001b[39m\u001b[39m10\u001b[39m, log_type\u001b[39m=\u001b[39m\u001b[39m\"\u001b[39m\u001b[39mAll\u001b[39m\u001b[39m\"\u001b[39m, timeout\u001b[39m=\u001b[39m\u001b[39mNone\u001b[39;00m):\n\u001b[1;32m   5833\u001b[0m \u001b[39m    \u001b[39m\u001b[39m\"\"\"Display logs for a given training job, optionally tailing them until job is complete.\u001b[39;00m\n\u001b[1;32m   5834\u001b[0m \n\u001b[1;32m   5835\u001b[0m \u001b[39m    If the output is a tty or a Jupyter cell, it will be color-coded\u001b[39;00m\n\u001b[0;32m   (...)\u001b[0m\n\u001b[1;32m   5851\u001b[0m \u001b[39m        exceptions.UnexpectedStatusException: If waiting and the training job fails.\u001b[39;00m\n\u001b[1;32m   5852\u001b[0m \u001b[39m    \"\"\"\u001b[39;00m\n\u001b[0;32m-> 5853\u001b[0m     _logs_for_job(\u001b[39mself\u001b[39;49m, job_name, wait, poll, log_type, timeout)\n",
      "File \u001b[0;32m~/Documents/GitHub/nasa-neo-watch/venv/lib/python3.12/site-packages/sagemaker/session.py:8453\u001b[0m, in \u001b[0;36m_logs_for_job\u001b[0;34m(sagemaker_session, job_name, wait, poll, log_type, timeout)\u001b[0m\n\u001b[1;32m   8450\u001b[0m             last_profiler_rule_statuses \u001b[39m=\u001b[39m profiler_rule_statuses\n\u001b[1;32m   8452\u001b[0m \u001b[39mif\u001b[39;00m wait:\n\u001b[0;32m-> 8453\u001b[0m     _check_job_status(job_name, description, \u001b[39m\"\u001b[39;49m\u001b[39mTrainingJobStatus\u001b[39;49m\u001b[39m\"\u001b[39;49m)\n\u001b[1;32m   8454\u001b[0m     \u001b[39mif\u001b[39;00m dot:\n\u001b[1;32m   8455\u001b[0m         \u001b[39mprint\u001b[39m()\n",
      "File \u001b[0;32m~/Documents/GitHub/nasa-neo-watch/venv/lib/python3.12/site-packages/sagemaker/session.py:8506\u001b[0m, in \u001b[0;36m_check_job_status\u001b[0;34m(job, desc, status_key_name)\u001b[0m\n\u001b[1;32m   8500\u001b[0m \u001b[39mif\u001b[39;00m \u001b[39m\"\u001b[39m\u001b[39mCapacityError\u001b[39m\u001b[39m\"\u001b[39m \u001b[39min\u001b[39;00m \u001b[39mstr\u001b[39m(reason):\n\u001b[1;32m   8501\u001b[0m     \u001b[39mraise\u001b[39;00m exceptions\u001b[39m.\u001b[39mCapacityError(\n\u001b[1;32m   8502\u001b[0m         message\u001b[39m=\u001b[39mmessage,\n\u001b[1;32m   8503\u001b[0m         allowed_statuses\u001b[39m=\u001b[39m[\u001b[39m\"\u001b[39m\u001b[39mCompleted\u001b[39m\u001b[39m\"\u001b[39m, \u001b[39m\"\u001b[39m\u001b[39mStopped\u001b[39m\u001b[39m\"\u001b[39m],\n\u001b[1;32m   8504\u001b[0m         actual_status\u001b[39m=\u001b[39mstatus,\n\u001b[1;32m   8505\u001b[0m     )\n\u001b[0;32m-> 8506\u001b[0m \u001b[39mraise\u001b[39;00m exceptions\u001b[39m.\u001b[39mUnexpectedStatusException(\n\u001b[1;32m   8507\u001b[0m     message\u001b[39m=\u001b[39mmessage,\n\u001b[1;32m   8508\u001b[0m     allowed_statuses\u001b[39m=\u001b[39m[\u001b[39m\"\u001b[39m\u001b[39mCompleted\u001b[39m\u001b[39m\"\u001b[39m, \u001b[39m\"\u001b[39m\u001b[39mStopped\u001b[39m\u001b[39m\"\u001b[39m],\n\u001b[1;32m   8509\u001b[0m     actual_status\u001b[39m=\u001b[39mstatus,\n\u001b[1;32m   8510\u001b[0m )\n",
      "\u001b[0;31mUnexpectedStatusException\u001b[0m: Error for Training job sagemaker-xgboost-2024-07-31-07-15-51-850: Failed. Reason: AlgorithmError: framework error: \nTraceback (most recent call last):\n  File \"/miniconda3/lib/python3.8/site-packages/sagemaker_xgboost_container/algorithm_mode/train.py\", line 319, in train_job\n    bst = xgb.train(\n  File \"/miniconda3/lib/python3.8/site-packages/xgboost/core.py\", line 620, in inner_f\n    return func(**kwargs)\n  File \"/miniconda3/lib/python3.8/site-packages/xgboost/training.py\", line 185, in train\n    bst.update(dtrain, i, obj)\n  File \"/miniconda3/lib/python3.8/site-packages/xgboost/core.py\", line 1918, in update\n    _check_call(_LIB.XGBoosterUpdateOneIter(self.handle,\n  File \"/miniconda3/lib/python3.8/site-packages/xgboost/core.py\", line 279, in _check_call\n    raise XGBoostError(py_str(_LIB.XGBGetLastError()))\nxgboost.core.XGBoostError: [07:18:33] ../src/objective/regression_obj.cu:148: label must be in [0,1] for logistic regression\nStack trace:\n  [bt] (0) /miniconda3/lib/python3.8/site-packages/xgboost/lib/libxgboost.so(+0x68eaf9) [0x7f2a0d58daf9]\n  [bt] (1) /miniconda3/lib/python3.8/site-p"
     ]
    }
   ],
   "source": [
    "session = sagemaker.Session()\n",
    "\n",
    "xgb = sagemaker.estimator.Estimator(\n",
    "    container,\n",
    "    role,\n",
    "    instance_count=1,\n",
    "    instance_type=\"ml.m4.xlarge\",\n",
    "    output_path=\"s3://{}/{}/output\".format(bucket, prefix),\n",
    "    sagemaker_session=session,\n",
    ")\n",
    "xgb.set_hyperparameters(\n",
    "    max_depth=5,\n",
    "    eta=0.2,\n",
    "    gamma=4,\n",
    "    min_child_weight=6,\n",
    "    subsample=0.8,\n",
    "    verbosity=0,\n",
    "    objective=\"binary:logistic\",\n",
    "    num_round=100,\n",
    ")\n",
    "\n",
    "xgb.fit({\"train\": s3_input_train, \"validation\": s3_input_validation})"
   ]
  },
  {
   "cell_type": "code",
   "execution_count": 117,
   "metadata": {},
   "outputs": [
    {
     "name": "stdout",
     "output_type": "stream",
     "text": [
      "Overwriting script.py\n"
     ]
    }
   ],
   "source": [
    "%%writefile script.py\n",
    "\n",
    "from sklearn.ensemble import RandomForestClassifier\n",
    "from sklearn.metrics import accuracy_score, classification_report, confusion_matrix, precision_score, recall_score, f1_score, roc_curve, auc\n",
    "import sklearn\n",
    "import joblib\n",
    "import boto3\n",
    "import pathlib\n",
    "from io import StringIO \n",
    "import argparse\n",
    "import joblib\n",
    "import os\n",
    "import numpy as np\n",
    "import pandas as pd\n",
    "    \n",
    "def model_fn(model_dir):\n",
    "    clf = joblib.load(os.path.join(model_dir, \"model.joblib\"))\n",
    "    return clf\n",
    "    \n",
    "if __name__ == \"__main__\":\n",
    "\n",
    "    print(\"[INFO] Extracting arguments\")\n",
    "    parser = argparse.ArgumentParser()\n",
    "\n",
    "    # hyperparameters sent by the client are passed as command-line arguments to the script.\n",
    "    parser.add_argument(\"--n_estimators\", type=int, default=100)\n",
    "    parser.add_argument(\"--random_state\", type=int, default=0)\n",
    "\n",
    "    # Data, model, and output directories\n",
    "    parser.add_argument(\"--model-dir\", type=str, default=os.environ.get(\"SM_MODEL_DIR\"))\n",
    "    parser.add_argument(\"--train\", type=str, default=os.environ.get(\"SM_CHANNEL_TRAIN\"))\n",
    "    parser.add_argument(\"--test\", type=str, default=os.environ.get(\"SM_CHANNEL_TEST\"))\n",
    "    parser.add_argument(\"--train-file\", type=str, default=\"train_v.1.csv\")\n",
    "    parser.add_argument(\"--test-file\", type=str, default=\"test_v.1.csv\")\n",
    "\n",
    "    args, _ = parser.parse_known_args()\n",
    "    \n",
    "    print(\"SKLearn Version: \", sklearn.__version__)\n",
    "    print(\"Joblib Version: \", joblib.__version__)\n",
    "\n",
    "    print(\"[INFO] Reading data\")\n",
    "    print()\n",
    "    train_df = pd.read_csv(os.path.join(args.train, args.train_file))\n",
    "    test_df = pd.read_csv(os.path.join(args.test, args.test_file))\n",
    "    \n",
    "    features = list(train_df.columns)\n",
    "    label = features.pop(-1)\n",
    "    \n",
    "    print(\"Building training and testing datasets\")\n",
    "    print()\n",
    "    X_train = train_df[features]\n",
    "    X_test = test_df[features]\n",
    "    Y_train = train_df[label]\n",
    "    Y_test = test_df[label]\n",
    "\n",
    "    print('Column order: ')\n",
    "    print(features)\n",
    "    print()\n",
    "    \n",
    "    print(\"Label column is: \",label)\n",
    "    print()\n",
    "    \n",
    "    print(\"Data Shape: \")\n",
    "    print()\n",
    "    print(\"---- SHAPE OF TRAINING DATA (85%) ----\")\n",
    "    print(X_train.shape)\n",
    "    print(Y_train.shape)\n",
    "    print()\n",
    "    print(\"---- SHAPE OF TESTING DATA (15%) ----\")\n",
    "    print(X_test.shape)\n",
    "    print(Y_test.shape)\n",
    "    print()\n",
    "    \n",
    "  \n",
    "    print(\"Training RandomForest Model.....\")\n",
    "    print()\n",
    "    model =  RandomForestClassifier(n_estimators=args.n_estimators, random_state=args.random_state, verbose = 3,n_jobs=-1)\n",
    "    model.fit(X_train, Y_train)\n",
    "    print()\n",
    "    \n",
    "\n",
    "    model_path = os.path.join(args.model_dir, \"model.joblib\")\n",
    "    joblib.dump(model,model_path)\n",
    "    print(\"Model persisted at \" + model_path)\n",
    "    print()\n",
    "\n",
    "    \n",
    "    Y_pred_test = model.predict(X_test)\n",
    "    test_acc = accuracy_score(Y_test,Y_pred_test)\n",
    "    test_rep = classification_report(Y_test,Y_pred_test)\n",
    "\n",
    "    print()\n",
    "    print(\"---- METRICS RESULTS FOR TESTING DATA ----\")\n",
    "    print()\n",
    "    print(\"Total Rows are: \", X_test.shape[0])\n",
    "    print('[TESTING] Model Accuracy is: ', test_acc)\n",
    "    print('[TESTING] Testing Report: ')\n",
    "    print(test_rep)"
   ]
  },
  {
   "cell_type": "code",
   "execution_count": 115,
   "metadata": {},
   "outputs": [],
   "source": [
    "from sagemaker.sklearn.estimator import SKLearn\n",
    "\n",
    "FRAMEWORK_VERSION = \"0.23-1\"\n",
    "\n",
    "sklearn_estimator = SKLearn(\n",
    "    entry_point=\"script.py\",\n",
    "    role=role,\n",
    "    instance_count=1,\n",
    "    instance_type=\"ml.m4.xlarge\",\n",
    "    framework_version=FRAMEWORK_VERSION,\n",
    "    base_job_name=\"RF-custom-sklearn\",\n",
    "    hyperparameters={\n",
    "        \"n_estimators\": 100,\n",
    "        \"random_state\": 0,\n",
    "    },\n",
    "    use_spot_instances = True,\n",
    "    max_wait = 7200,\n",
    "    max_run = 3600\n",
    ")"
   ]
  },
  {
   "cell_type": "code",
   "execution_count": 116,
   "metadata": {},
   "outputs": [
    {
     "name": "stderr",
     "output_type": "stream",
     "text": [
      "INFO:sagemaker:Creating training-job with name: RF-custom-sklearn-2024-07-31-07-32-57-944\n"
     ]
    },
    {
     "name": "stdout",
     "output_type": "stream",
     "text": [
      "2024-07-31 07:32:59 Starting - Starting the training job...\n",
      "2024-07-31 07:33:24 Starting - Preparing the instances for training......\n",
      "2024-07-31 07:34:13 Downloading - Downloading input data...\n",
      "2024-07-31 07:34:33 Downloading - Downloading the training image...\n",
      "2024-07-31 07:35:29 Training - Training image download completed. Training in progress..2024-07-31 07:35:41,669 sagemaker-containers INFO     Imported framework sagemaker_sklearn_container.training\n",
      "2024-07-31 07:35:41,673 sagemaker-training-toolkit INFO     No GPUs detected (normal if no gpus installed)\n",
      "2024-07-31 07:35:41,717 sagemaker_sklearn_container.training INFO     Invoking user training script.\n",
      "2024-07-31 07:35:41,913 sagemaker-training-toolkit INFO     No GPUs detected (normal if no gpus installed)\n",
      "2024-07-31 07:35:41,927 sagemaker-training-toolkit INFO     No GPUs detected (normal if no gpus installed)\n",
      "2024-07-31 07:35:41,942 sagemaker-training-toolkit INFO     No GPUs detected (normal if no gpus installed)\n",
      "2024-07-31 07:35:41,953 sagemaker-training-toolkit INFO     Invoking user script\n",
      "Training Env:\n",
      "{\n",
      "    \"additional_framework_parameters\": {},\n",
      "    \"channel_input_dirs\": {\n",
      "        \"test\": \"/opt/ml/input/data/test\",\n",
      "        \"train\": \"/opt/ml/input/data/train\"\n",
      "    },\n",
      "    \"current_host\": \"algo-1\",\n",
      "    \"framework_module\": \"sagemaker_sklearn_container.training:main\",\n",
      "    \"hosts\": [\n",
      "        \"algo-1\"\n",
      "    ],\n",
      "    \"hyperparameters\": {\n",
      "        \"n_estimators\": 100,\n",
      "        \"random_state\": 0\n",
      "    },\n",
      "    \"input_config_dir\": \"/opt/ml/input/config\",\n",
      "    \"input_data_config\": {\n",
      "        \"test\": {\n",
      "            \"TrainingInputMode\": \"File\",\n",
      "            \"S3DistributionType\": \"FullyReplicated\",\n",
      "            \"RecordWrapperType\": \"None\"\n",
      "        },\n",
      "        \"train\": {\n",
      "            \"TrainingInputMode\": \"File\",\n",
      "            \"S3DistributionType\": \"FullyReplicated\",\n",
      "            \"RecordWrapperType\": \"None\"\n",
      "        }\n",
      "    },\n",
      "    \"input_dir\": \"/opt/ml/input\",\n",
      "    \"is_master\": true,\n",
      "    \"job_name\": \"RF-custom-sklearn-2024-07-31-07-32-57-944\",\n",
      "    \"log_level\": 20,\n",
      "    \"master_hostname\": \"algo-1\",\n",
      "    \"model_dir\": \"/opt/ml/model\",\n",
      "    \"module_dir\": \"s3://sagemaker-us-east-1-949672723150/RF-custom-sklearn-2024-07-31-07-32-57-944/source/sourcedir.tar.gz\",\n",
      "    \"module_name\": \"script\",\n",
      "    \"network_interface_name\": \"eth0\",\n",
      "    \"num_cpus\": 4,\n",
      "    \"num_gpus\": 0,\n",
      "    \"output_data_dir\": \"/opt/ml/output/data\",\n",
      "    \"output_dir\": \"/opt/ml/output\",\n",
      "    \"output_intermediate_dir\": \"/opt/ml/output/intermediate\",\n",
      "    \"resource_config\": {\n",
      "        \"current_host\": \"algo-1\",\n",
      "        \"current_instance_type\": \"ml.m4.xlarge\",\n",
      "        \"current_group_name\": \"homogeneousCluster\",\n",
      "        \"hosts\": [\n",
      "            \"algo-1\"\n",
      "        ],\n",
      "        \"instance_groups\": [\n",
      "            {\n",
      "                \"instance_group_name\": \"homogeneousCluster\",\n",
      "                \"instance_type\": \"ml.m4.xlarge\",\n",
      "                \"hosts\": [\n",
      "                    \"algo-1\"\n",
      "                ]\n",
      "            }\n",
      "        ],\n",
      "        \"network_interface_name\": \"eth0\"\n",
      "    },\n",
      "    \"user_entry_point\": \"script.py\"\n",
      "}\n",
      "Environment variables:\n",
      "SM_HOSTS=[\"algo-1\"]\n",
      "SM_NETWORK_INTERFACE_NAME=eth0\n",
      "SM_HPS={\"n_estimators\":100,\"random_state\":0}\n",
      "SM_USER_ENTRY_POINT=script.py\n",
      "SM_FRAMEWORK_PARAMS={}\n",
      "SM_RESOURCE_CONFIG={\"current_group_name\":\"homogeneousCluster\",\"current_host\":\"algo-1\",\"current_instance_type\":\"ml.m4.xlarge\",\"hosts\":[\"algo-1\"],\"instance_groups\":[{\"hosts\":[\"algo-1\"],\"instance_group_name\":\"homogeneousCluster\",\"instance_type\":\"ml.m4.xlarge\"}],\"network_interface_name\":\"eth0\"}\n",
      "SM_INPUT_DATA_CONFIG={\"test\":{\"RecordWrapperType\":\"None\",\"S3DistributionType\":\"FullyReplicated\",\"TrainingInputMode\":\"File\"},\"train\":{\"RecordWrapperType\":\"None\",\"S3DistributionType\":\"FullyReplicated\",\"TrainingInputMode\":\"File\"}}\n",
      "SM_OUTPUT_DATA_DIR=/opt/ml/output/data\n",
      "SM_CHANNELS=[\"test\",\"train\"]\n",
      "SM_CURRENT_HOST=algo-1\n",
      "SM_MODULE_NAME=script\n",
      "SM_LOG_LEVEL=20\n",
      "SM_FRAMEWORK_MODULE=sagemaker_sklearn_container.training:main\n",
      "SM_INPUT_DIR=/opt/ml/input\n",
      "SM_INPUT_CONFIG_DIR=/opt/ml/input/config\n",
      "SM_OUTPUT_DIR=/opt/ml/output\n",
      "SM_NUM_CPUS=4\n",
      "SM_NUM_GPUS=0\n",
      "SM_MODEL_DIR=/opt/ml/model\n",
      "SM_MODULE_DIR=s3://sagemaker-us-east-1-949672723150/RF-custom-sklearn-2024-07-31-07-32-57-944/source/sourcedir.tar.gz\n",
      "SM_TRAINING_ENV={\"additional_framework_parameters\":{},\"channel_input_dirs\":{\"test\":\"/opt/ml/input/data/test\",\"train\":\"/opt/ml/input/data/train\"},\"current_host\":\"algo-1\",\"framework_module\":\"sagemaker_sklearn_container.training:main\",\"hosts\":[\"algo-1\"],\"hyperparameters\":{\"n_estimators\":100,\"random_state\":0},\"input_config_dir\":\"/opt/ml/input/config\",\"input_data_config\":{\"test\":{\"RecordWrapperType\":\"None\",\"S3DistributionType\":\"FullyReplicated\",\"TrainingInputMode\":\"File\"},\"train\":{\"RecordWrapperType\":\"None\",\"S3DistributionType\":\"FullyReplicated\",\"TrainingInputMode\":\"File\"}},\"input_dir\":\"/opt/ml/input\",\"is_master\":true,\"job_name\":\"RF-custom-sklearn-2024-07-31-07-32-57-944\",\"log_level\":20,\"master_hostname\":\"algo-1\",\"model_dir\":\"/opt/ml/model\",\"module_dir\":\"s3://sagemaker-us-east-1-949672723150/RF-custom-sklearn-2024-07-31-07-32-57-944/source/sourcedir.tar.gz\",\"module_name\":\"script\",\"network_interface_name\":\"eth0\",\"num_cpus\":4,\"num_gpus\":0,\"output_data_dir\":\"/opt/ml/output/data\",\"output_dir\":\"/opt/ml/output\",\"output_intermediate_dir\":\"/opt/ml/output/intermediate\",\"resource_config\":{\"current_group_name\":\"homogeneousCluster\",\"current_host\":\"algo-1\",\"current_instance_type\":\"ml.m4.xlarge\",\"hosts\":[\"algo-1\"],\"instance_groups\":[{\"hosts\":[\"algo-1\"],\"instance_group_name\":\"homogeneousCluster\",\"instance_type\":\"ml.m4.xlarge\"}],\"network_interface_name\":\"eth0\"},\"user_entry_point\":\"script.py\"}\n",
      "SM_USER_ARGS=[\"--n_estimators\",\"100\",\"--random_state\",\"0\"]\n",
      "SM_OUTPUT_INTERMEDIATE_DIR=/opt/ml/output/intermediate\n",
      "SM_CHANNEL_TEST=/opt/ml/input/data/test\n",
      "SM_CHANNEL_TRAIN=/opt/ml/input/data/train\n",
      "SM_HP_N_ESTIMATORS=100\n",
      "SM_HP_RANDOM_STATE=0\n",
      "PYTHONPATH=/opt/ml/code:/miniconda3/bin:/miniconda3/lib/python37.zip:/miniconda3/lib/python3.7:/miniconda3/lib/python3.7/lib-dynload:/miniconda3/lib/python3.7/site-packages\n",
      "Invoking script with the following command:\n",
      "/miniconda3/bin/python script.py --n_estimators 100 --random_state 0\n",
      "[INFO] Extracting arguments\n",
      "SKLearn Version:  0.23.2\n",
      "Joblib Version:  1.2.0\n",
      "[INFO] Reading data\n",
      "Building training and testing datasets\n",
      "Column order: \n",
      "['est_diameter_min', 'est_diameter_max', 'relative_velocity', 'miss_distance', 'orbit_uncertainty', 'orbital_period', 'mean_motion', 'eccentricity', 'perihelion_distance', 'aphelion_distance', 'velocity_rate_regression', 'velocity_rate_avg', 'miss_distance_rate_regression', 'miss_distance_rate_avg']\n",
      "Label column is:  hazardous\n",
      "Data Shape: \n",
      "---- SHAPE OF TRAINING DATA (85%) ----\n",
      "(57600, 14)\n",
      "(57600,)\n",
      "---- SHAPE OF TESTING DATA (15%) ----\n",
      "(18000, 14)\n",
      "(18000,)\n",
      "Traceback (most recent call last):\n",
      "  File \"script.py\", line 77, in <module>\n",
      "Training RandomForest Model.....\n",
      "    model.fit(X_train, y_train)\n",
      "NameError: name 'y_train' is not defined\n",
      "2024-07-31 07:35:43,365 sagemaker-containers ERROR    Reporting training FAILURE\n",
      "2024-07-31 07:35:43,366 sagemaker-containers ERROR    framework error: \n",
      "Traceback (most recent call last):\n",
      "  File \"/miniconda3/lib/python3.7/site-packages/sagemaker_containers/_trainer.py\", line 84, in train\n",
      "    entrypoint()\n",
      "  File \"/miniconda3/lib/python3.7/site-packages/sagemaker_sklearn_container/training.py\", line 39, in main\n",
      "    train(environment.Environment())\n",
      "  File \"/miniconda3/lib/python3.7/site-packages/sagemaker_sklearn_container/training.py\", line 35, in train\n",
      "    runner_type=runner.ProcessRunnerType)\n",
      "  File \"/miniconda3/lib/python3.7/site-packages/sagemaker_training/entry_point.py\", line 100, in run\n",
      "    wait, capture_error\n",
      "  File \"/miniconda3/lib/python3.7/site-packages/sagemaker_training/process.py\", line 291, in run\n",
      "    cwd=environment.code_dir,\n",
      "  File \"/miniconda3/lib/python3.7/site-packages/sagemaker_training/process.py\", line 208, in check_error\n",
      "    info=extra_info,\n",
      "sagemaker_training.errors.ExecuteUserScriptError: ExecuteUserScriptError:\n",
      "ExitCode 1\n",
      "ErrorMessage \"\"\n",
      "Command \"/miniconda3/bin/python script.py --n_estimators 100 --random_state 0\"\n",
      "ExecuteUserScriptError:\n",
      "ExitCode 1\n",
      "ErrorMessage \"\"\n",
      "Command \"/miniconda3/bin/python script.py --n_estimators 100 --random_state 0\"\n",
      "\n",
      "2024-07-31 07:35:57 Uploading - Uploading generated training model\n",
      "2024-07-31 07:35:57 Failed - Training job failed\n"
     ]
    },
    {
     "ename": "UnexpectedStatusException",
     "evalue": "Error for Training job RF-custom-sklearn-2024-07-31-07-32-57-944: Failed. Reason: AlgorithmError: framework error: \nTraceback (most recent call last):\n  File \"/miniconda3/lib/python3.7/site-packages/sagemaker_containers/_trainer.py\", line 84, in train\n    entrypoint()\n  File \"/miniconda3/lib/python3.7/site-packages/sagemaker_sklearn_container/training.py\", line 39, in main\n    train(environment.Environment())\n  File \"/miniconda3/lib/python3.7/site-packages/sagemaker_sklearn_container/training.py\", line 35, in train\n    runner_type=runner.ProcessRunnerType)\n  File \"/miniconda3/lib/python3.7/site-packages/sagemaker_training/entry_point.py\", line 100, in run\n    wait, capture_error\n  File \"/miniconda3/lib/python3.7/site-packages/sagemaker_training/process.py\", line 291, in run\n    cwd=environment.code_dir,\n  File \"/miniconda3/lib/python3.7/site-packages/sagemaker_training/process.py\", line 208, in check_error\n    info=extra_info,\nsagemaker_training.errors.ExecuteUserScriptError: ExecuteUserScriptError:\nExitCode 1\nErrorMessage \"\"\nCommand \"/miniconda3/bin/python script.py --n_estimators 100 --r",
     "output_type": "error",
     "traceback": [
      "\u001b[0;31m---------------------------------------------------------------------------\u001b[0m",
      "\u001b[0;31mUnexpectedStatusException\u001b[0m                 Traceback (most recent call last)",
      "\u001b[1;32m/Users/shubhigupta/Documents/GitHub/nasa-neo-watch/documentation_nasa-neo-watch.ipynb Cell 34\u001b[0m line \u001b[0;36m2\n\u001b[1;32m      <a href='vscode-notebook-cell:/Users/shubhigupta/Documents/GitHub/nasa-neo-watch/documentation_nasa-neo-watch.ipynb#X45sZmlsZQ%3D%3D?line=0'>1</a>\u001b[0m \u001b[39m# launch training job, with asynchronous call\u001b[39;00m\n\u001b[0;32m----> <a href='vscode-notebook-cell:/Users/shubhigupta/Documents/GitHub/nasa-neo-watch/documentation_nasa-neo-watch.ipynb#X45sZmlsZQ%3D%3D?line=1'>2</a>\u001b[0m sklearn_estimator\u001b[39m.\u001b[39;49mfit({\u001b[39m\"\u001b[39;49m\u001b[39mtrain\u001b[39;49m\u001b[39m\"\u001b[39;49m: trainpath, \u001b[39m\"\u001b[39;49m\u001b[39mtest\u001b[39;49m\u001b[39m\"\u001b[39;49m: testpath}, wait\u001b[39m=\u001b[39;49m\u001b[39mTrue\u001b[39;49;00m)\n\u001b[1;32m      <a href='vscode-notebook-cell:/Users/shubhigupta/Documents/GitHub/nasa-neo-watch/documentation_nasa-neo-watch.ipynb#X45sZmlsZQ%3D%3D?line=2'>3</a>\u001b[0m \u001b[39m# sklearn_estimator.fit({\"train\": datapath}, wait=True)\u001b[39;00m\n",
      "File \u001b[0;32m~/Documents/GitHub/nasa-neo-watch/venv/lib/python3.12/site-packages/sagemaker/workflow/pipeline_context.py:346\u001b[0m, in \u001b[0;36mrunnable_by_pipeline.<locals>.wrapper\u001b[0;34m(*args, **kwargs)\u001b[0m\n\u001b[1;32m    342\u001b[0m         \u001b[39mreturn\u001b[39;00m context\n\u001b[1;32m    344\u001b[0m     \u001b[39mreturn\u001b[39;00m _StepArguments(retrieve_caller_name(self_instance), run_func, \u001b[39m*\u001b[39margs, \u001b[39m*\u001b[39m\u001b[39m*\u001b[39mkwargs)\n\u001b[0;32m--> 346\u001b[0m \u001b[39mreturn\u001b[39;00m run_func(\u001b[39m*\u001b[39;49margs, \u001b[39m*\u001b[39;49m\u001b[39m*\u001b[39;49mkwargs)\n",
      "File \u001b[0;32m~/Documents/GitHub/nasa-neo-watch/venv/lib/python3.12/site-packages/sagemaker/estimator.py:1349\u001b[0m, in \u001b[0;36mEstimatorBase.fit\u001b[0;34m(self, inputs, wait, logs, job_name, experiment_config)\u001b[0m\n\u001b[1;32m   1347\u001b[0m \u001b[39mself\u001b[39m\u001b[39m.\u001b[39mjobs\u001b[39m.\u001b[39mappend(\u001b[39mself\u001b[39m\u001b[39m.\u001b[39mlatest_training_job)\n\u001b[1;32m   1348\u001b[0m \u001b[39mif\u001b[39;00m wait:\n\u001b[0;32m-> 1349\u001b[0m     \u001b[39mself\u001b[39;49m\u001b[39m.\u001b[39;49mlatest_training_job\u001b[39m.\u001b[39;49mwait(logs\u001b[39m=\u001b[39;49mlogs)\n",
      "File \u001b[0;32m~/Documents/GitHub/nasa-neo-watch/venv/lib/python3.12/site-packages/sagemaker/estimator.py:2710\u001b[0m, in \u001b[0;36m_TrainingJob.wait\u001b[0;34m(self, logs)\u001b[0m\n\u001b[1;32m   2708\u001b[0m \u001b[39m# If logs are requested, call logs_for_jobs.\u001b[39;00m\n\u001b[1;32m   2709\u001b[0m \u001b[39mif\u001b[39;00m logs \u001b[39m!=\u001b[39m \u001b[39m\"\u001b[39m\u001b[39mNone\u001b[39m\u001b[39m\"\u001b[39m:\n\u001b[0;32m-> 2710\u001b[0m     \u001b[39mself\u001b[39;49m\u001b[39m.\u001b[39;49msagemaker_session\u001b[39m.\u001b[39;49mlogs_for_job(\u001b[39mself\u001b[39;49m\u001b[39m.\u001b[39;49mjob_name, wait\u001b[39m=\u001b[39;49m\u001b[39mTrue\u001b[39;49;00m, log_type\u001b[39m=\u001b[39;49mlogs)\n\u001b[1;32m   2711\u001b[0m \u001b[39melse\u001b[39;00m:\n\u001b[1;32m   2712\u001b[0m     \u001b[39mself\u001b[39m\u001b[39m.\u001b[39msagemaker_session\u001b[39m.\u001b[39mwait_for_job(\u001b[39mself\u001b[39m\u001b[39m.\u001b[39mjob_name)\n",
      "File \u001b[0;32m~/Documents/GitHub/nasa-neo-watch/venv/lib/python3.12/site-packages/sagemaker/session.py:5853\u001b[0m, in \u001b[0;36mSession.logs_for_job\u001b[0;34m(self, job_name, wait, poll, log_type, timeout)\u001b[0m\n\u001b[1;32m   5832\u001b[0m \u001b[39mdef\u001b[39;00m \u001b[39mlogs_for_job\u001b[39m(\u001b[39mself\u001b[39m, job_name, wait\u001b[39m=\u001b[39m\u001b[39mFalse\u001b[39;00m, poll\u001b[39m=\u001b[39m\u001b[39m10\u001b[39m, log_type\u001b[39m=\u001b[39m\u001b[39m\"\u001b[39m\u001b[39mAll\u001b[39m\u001b[39m\"\u001b[39m, timeout\u001b[39m=\u001b[39m\u001b[39mNone\u001b[39;00m):\n\u001b[1;32m   5833\u001b[0m \u001b[39m    \u001b[39m\u001b[39m\"\"\"Display logs for a given training job, optionally tailing them until job is complete.\u001b[39;00m\n\u001b[1;32m   5834\u001b[0m \n\u001b[1;32m   5835\u001b[0m \u001b[39m    If the output is a tty or a Jupyter cell, it will be color-coded\u001b[39;00m\n\u001b[0;32m   (...)\u001b[0m\n\u001b[1;32m   5851\u001b[0m \u001b[39m        exceptions.UnexpectedStatusException: If waiting and the training job fails.\u001b[39;00m\n\u001b[1;32m   5852\u001b[0m \u001b[39m    \"\"\"\u001b[39;00m\n\u001b[0;32m-> 5853\u001b[0m     _logs_for_job(\u001b[39mself\u001b[39;49m, job_name, wait, poll, log_type, timeout)\n",
      "File \u001b[0;32m~/Documents/GitHub/nasa-neo-watch/venv/lib/python3.12/site-packages/sagemaker/session.py:8453\u001b[0m, in \u001b[0;36m_logs_for_job\u001b[0;34m(sagemaker_session, job_name, wait, poll, log_type, timeout)\u001b[0m\n\u001b[1;32m   8450\u001b[0m             last_profiler_rule_statuses \u001b[39m=\u001b[39m profiler_rule_statuses\n\u001b[1;32m   8452\u001b[0m \u001b[39mif\u001b[39;00m wait:\n\u001b[0;32m-> 8453\u001b[0m     _check_job_status(job_name, description, \u001b[39m\"\u001b[39;49m\u001b[39mTrainingJobStatus\u001b[39;49m\u001b[39m\"\u001b[39;49m)\n\u001b[1;32m   8454\u001b[0m     \u001b[39mif\u001b[39;00m dot:\n\u001b[1;32m   8455\u001b[0m         \u001b[39mprint\u001b[39m()\n",
      "File \u001b[0;32m~/Documents/GitHub/nasa-neo-watch/venv/lib/python3.12/site-packages/sagemaker/session.py:8506\u001b[0m, in \u001b[0;36m_check_job_status\u001b[0;34m(job, desc, status_key_name)\u001b[0m\n\u001b[1;32m   8500\u001b[0m \u001b[39mif\u001b[39;00m \u001b[39m\"\u001b[39m\u001b[39mCapacityError\u001b[39m\u001b[39m\"\u001b[39m \u001b[39min\u001b[39;00m \u001b[39mstr\u001b[39m(reason):\n\u001b[1;32m   8501\u001b[0m     \u001b[39mraise\u001b[39;00m exceptions\u001b[39m.\u001b[39mCapacityError(\n\u001b[1;32m   8502\u001b[0m         message\u001b[39m=\u001b[39mmessage,\n\u001b[1;32m   8503\u001b[0m         allowed_statuses\u001b[39m=\u001b[39m[\u001b[39m\"\u001b[39m\u001b[39mCompleted\u001b[39m\u001b[39m\"\u001b[39m, \u001b[39m\"\u001b[39m\u001b[39mStopped\u001b[39m\u001b[39m\"\u001b[39m],\n\u001b[1;32m   8504\u001b[0m         actual_status\u001b[39m=\u001b[39mstatus,\n\u001b[1;32m   8505\u001b[0m     )\n\u001b[0;32m-> 8506\u001b[0m \u001b[39mraise\u001b[39;00m exceptions\u001b[39m.\u001b[39mUnexpectedStatusException(\n\u001b[1;32m   8507\u001b[0m     message\u001b[39m=\u001b[39mmessage,\n\u001b[1;32m   8508\u001b[0m     allowed_statuses\u001b[39m=\u001b[39m[\u001b[39m\"\u001b[39m\u001b[39mCompleted\u001b[39m\u001b[39m\"\u001b[39m, \u001b[39m\"\u001b[39m\u001b[39mStopped\u001b[39m\u001b[39m\"\u001b[39m],\n\u001b[1;32m   8509\u001b[0m     actual_status\u001b[39m=\u001b[39mstatus,\n\u001b[1;32m   8510\u001b[0m )\n",
      "\u001b[0;31mUnexpectedStatusException\u001b[0m: Error for Training job RF-custom-sklearn-2024-07-31-07-32-57-944: Failed. Reason: AlgorithmError: framework error: \nTraceback (most recent call last):\n  File \"/miniconda3/lib/python3.7/site-packages/sagemaker_containers/_trainer.py\", line 84, in train\n    entrypoint()\n  File \"/miniconda3/lib/python3.7/site-packages/sagemaker_sklearn_container/training.py\", line 39, in main\n    train(environment.Environment())\n  File \"/miniconda3/lib/python3.7/site-packages/sagemaker_sklearn_container/training.py\", line 35, in train\n    runner_type=runner.ProcessRunnerType)\n  File \"/miniconda3/lib/python3.7/site-packages/sagemaker_training/entry_point.py\", line 100, in run\n    wait, capture_error\n  File \"/miniconda3/lib/python3.7/site-packages/sagemaker_training/process.py\", line 291, in run\n    cwd=environment.code_dir,\n  File \"/miniconda3/lib/python3.7/site-packages/sagemaker_training/process.py\", line 208, in check_error\n    info=extra_info,\nsagemaker_training.errors.ExecuteUserScriptError: ExecuteUserScriptError:\nExitCode 1\nErrorMessage \"\"\nCommand \"/miniconda3/bin/python script.py --n_estimators 100 --r"
     ]
    }
   ],
   "source": [
    "# launch training job, with asynchronous call\n",
    "sklearn_estimator.fit({\"train\": trainpath, \"test\": testpath}, wait=True)\n",
    "# sklearn_estimator.fit({\"train\": datapath}, wait=True)"
   ]
  }
 ],
 "metadata": {
  "kernelspec": {
   "display_name": "venv",
   "language": "python",
   "name": "python3"
  },
  "language_info": {
   "codemirror_mode": {
    "name": "ipython",
    "version": 3
   },
   "file_extension": ".py",
   "mimetype": "text/x-python",
   "name": "python",
   "nbconvert_exporter": "python",
   "pygments_lexer": "ipython3",
   "version": "3.12.3"
  }
 },
 "nbformat": 4,
 "nbformat_minor": 2
}
